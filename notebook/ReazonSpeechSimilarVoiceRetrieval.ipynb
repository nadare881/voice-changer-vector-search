{
 "cells": [
  {
   "cell_type": "code",
   "execution_count": 1,
   "id": "05163197",
   "metadata": {
    "ExecuteTime": {
     "end_time": "2023-05-11T15:55:44.940693Z",
     "start_time": "2023-05-11T15:55:41.091083Z"
    }
   },
   "outputs": [],
   "source": [
    "import os\n",
    "from heapq import heappush, heappushpop, heappop\n",
    "\n",
    "import numpy as np\n",
    "import soundfile\n",
    "import torch\n",
    "\n",
    "from datasets import load_dataset, interleave_datasets\n",
    "from huggingface_hub import login\n",
    "from pyannote.audio import Model, Inference\n",
    "from tqdm.notebook import tqdm"
   ]
  },
  {
   "cell_type": "markdown",
   "id": "bd484b73",
   "metadata": {},
   "source": [
    "# hugging faceへのログインとモデル・データセットのロード\n",
    "\n",
    "必要なもの:\n",
    "\n",
    "- HuggingFaceのアカウント + token\n",
    "- https://huggingface.co/pyannote/embedding のユーザー規約への同意\n",
    "## ログイン"
   ]
  },
  {
   "cell_type": "code",
   "execution_count": 3,
   "id": "e667ddec",
   "metadata": {
    "ExecuteTime": {
     "end_time": "2023-05-11T15:55:51.909245Z",
     "start_time": "2023-05-11T15:55:51.236989Z"
    }
   },
   "outputs": [
    {
     "name": "stdout",
     "output_type": "stream",
     "text": [
      "Token will not been saved to git credential helper. Pass `add_to_git_credential=True` if you want to set the git credential as well.\n",
      "Token is valid.\n",
      "Your token has been saved to C:\\Users\\nadare\\.cache\\huggingface\\token\n",
      "Login successful\n"
     ]
    }
   ],
   "source": [
    "your_hugging_face_token = \"your-huggingface-token\"\n",
    "login(token=your_hugging_face_token)"
   ]
  },
  {
   "cell_type": "markdown",
   "id": "13da168f",
   "metadata": {
    "ExecuteTime": {
     "end_time": "2023-05-11T12:11:07.962616Z",
     "start_time": "2023-05-11T12:11:07.952617Z"
    }
   },
   "source": [
    "## データセットのロード\n",
    "大規模なデータで確認する際は`small`を`all`に変更してください"
   ]
  },
  {
   "cell_type": "code",
   "execution_count": 4,
   "id": "7f984840",
   "metadata": {
    "ExecuteTime": {
     "end_time": "2023-05-11T15:55:57.387719Z",
     "start_time": "2023-05-11T15:55:54.579941Z"
    }
   },
   "outputs": [],
   "source": [
    "ds = load_dataset(\"reazon-research/reazonspeech\", \"small\", split=\"train\", streaming=True)"
   ]
  },
  {
   "cell_type": "markdown",
   "id": "8a358e8f",
   "metadata": {},
   "source": [
    "## PyAnnoteのモデルのロード"
   ]
  },
  {
   "cell_type": "code",
   "execution_count": 5,
   "id": "cc227557",
   "metadata": {
    "ExecuteTime": {
     "end_time": "2023-05-11T15:55:58.410056Z",
     "start_time": "2023-05-11T15:55:57.388719Z"
    }
   },
   "outputs": [],
   "source": [
    "embedding_model = Model.from_pretrained(\"pyannote/embedding\", \n",
    "                                        use_auth_token=your_hugging_face_token)\n",
    "embedding_inference = Inference(embedding_model, window=\"whole\", device=\"cuda\")"
   ]
  },
  {
   "cell_type": "markdown",
   "id": "5114986a",
   "metadata": {
    "ExecuteTime": {
     "end_time": "2023-05-11T12:11:48.034625Z",
     "start_time": "2023-05-11T12:11:48.017461Z"
    }
   },
   "source": [
    "# 検索"
   ]
  },
  {
   "cell_type": "markdown",
   "id": "cc388c76",
   "metadata": {},
   "source": [
    "## クエリの用意"
   ]
  },
  {
   "cell_type": "markdown",
   "id": "ea29e3ca",
   "metadata": {},
   "source": [
    "### 音声ファイルから読み込む場合"
   ]
  },
  {
   "cell_type": "code",
   "execution_count": null,
   "id": "1218180f",
   "metadata": {
    "ExecuteTime": {
     "end_time": "2023-05-11T15:48:34.968587Z",
     "start_time": "2023-05-11T15:48:34.949822Z"
    }
   },
   "outputs": [],
   "source": [
    "emb = embedding_inference(\"your_files_path.wav\")\n",
    "query_embedding = emb / max(np.linalg.norm(emb, ord=2), 1e-9)"
   ]
  },
  {
   "cell_type": "markdown",
   "id": "0e5893f6",
   "metadata": {},
   "source": [
    "### 音声ファイルの平均をとる場合"
   ]
  },
  {
   "cell_type": "code",
   "execution_count": null,
   "id": "b34640f0",
   "metadata": {
    "ExecuteTime": {
     "end_time": "2023-05-11T14:12:14.010942Z",
     "start_time": "2023-05-11T14:12:14.010942Z"
    }
   },
   "outputs": [],
   "source": [
    "search_dir = \"your_target_dir\"\n",
    "target_extension = \".wav\"\n",
    "\n",
    "for dirpath, dirnames, filenames in os.walk(search_dir):\n",
    "    for file in filenames:\n",
    "        if file.endswith(target_extension):\n",
    "            path = dirpath + \"/\" + file\n",
    "            paths.append(path)\n",
    "embeddings = np.stack([embedding_inference(path) for path in tqdm(paths)], axis=0)\n",
    "embeddings = (embeddings / np.maximum(1e-9, np.linalg.norm(embeddings, ord=2, axis=-1, keepdims=True))).mean(axis=0)\n",
    "query_embedding = embeddings / np.maximum(1e-9, np.linalg.norm(embeddings, ord=2, axis=-1, keepdims=True))"
   ]
  },
  {
   "cell_type": "markdown",
   "id": "ba9e5beb",
   "metadata": {},
   "source": [
    "### voice-changer-vector-searchのデータから探す場合"
   ]
  },
  {
   "cell_type": "code",
   "execution_count": 6,
   "id": "4cd0bdfc",
   "metadata": {
    "ExecuteTime": {
     "end_time": "2023-05-11T15:55:59.993401Z",
     "start_time": "2023-05-11T15:55:58.883390Z"
    }
   },
   "outputs": [
    {
     "name": "stderr",
     "output_type": "stream",
     "text": [
      "fatal: destination path 'voice-changer-vector-search' already exists and is not an empty directory.\n"
     ]
    },
    {
     "name": "stdout",
     "output_type": "stream",
     "text": [
      "Your branch is up to date with 'origin/main'.\n"
     ]
    },
    {
     "name": "stderr",
     "output_type": "stream",
     "text": [
      "Already on 'main'\n"
     ]
    },
    {
     "name": "stdout",
     "output_type": "stream",
     "text": [
      "Already up to date.\n"
     ]
    },
    {
     "name": "stderr",
     "output_type": "stream",
     "text": [
      "From https://github.com/nadare881/voice-changer-vector-search\n",
      "   5bfdf10..7f32821  develop    -> origin/develop\n"
     ]
    },
    {
     "name": "stdout",
     "output_type": "stream",
     "text": [
      "HEAD is now at 5326794 Merge pull request #19 from nadare881/develop\n"
     ]
    }
   ],
   "source": [
    "!git clone https://github.com/nadare881/voice-changer-vector-search.git\n",
    "os.chdir(\"./voice-changer-vector-search\")\n",
    "!git checkout main\n",
    "!git pull origin\n",
    "!git reset --hard origin/main\n",
    "os.chdir(\"../\")"
   ]
  },
  {
   "cell_type": "code",
   "execution_count": 7,
   "id": "6df74e12",
   "metadata": {
    "ExecuteTime": {
     "end_time": "2023-05-11T15:56:00.009402Z",
     "start_time": "2023-05-11T15:55:59.994402Z"
    }
   },
   "outputs": [
    {
     "data": {
      "text/html": [
       "<div>\n",
       "<style scoped>\n",
       "    .dataframe tbody tr th:only-of-type {\n",
       "        vertical-align: middle;\n",
       "    }\n",
       "\n",
       "    .dataframe tbody tr th {\n",
       "        vertical-align: top;\n",
       "    }\n",
       "\n",
       "    .dataframe thead th {\n",
       "        text-align: right;\n",
       "    }\n",
       "</style>\n",
       "<table border=\"1\" class=\"dataframe\">\n",
       "  <thead>\n",
       "    <tr style=\"text-align: right;\">\n",
       "      <th></th>\n",
       "      <th>voice_id</th>\n",
       "      <th>display_name</th>\n",
       "      <th>distribution_type</th>\n",
       "      <th>url</th>\n",
       "      <th>voice_sample</th>\n",
       "      <th>thumbnail</th>\n",
       "      <th>speaker</th>\n",
       "      <th>actor</th>\n",
       "      <th>corpus</th>\n",
       "      <th>language</th>\n",
       "      <th>...</th>\n",
       "      <th>license_type</th>\n",
       "      <th>license_url</th>\n",
       "      <th>terms_link</th>\n",
       "      <th>commercial_use</th>\n",
       "      <th>price</th>\n",
       "      <th>twitter</th>\n",
       "      <th>ex_url_1</th>\n",
       "      <th>model_type</th>\n",
       "      <th>base_model</th>\n",
       "      <th>input_voice</th>\n",
       "    </tr>\n",
       "  </thead>\n",
       "  <tbody>\n",
       "    <tr>\n",
       "      <th>0</th>\n",
       "      <td>0</td>\n",
       "      <td>あみたろのITAコーパス読み上げ音声</td>\n",
       "      <td>voice</td>\n",
       "      <td>https://amitaro.net/voice/corpus-list/ita/</td>\n",
       "      <td>https://www.youtube.com/embed/ksKu6JyLP5I</td>\n",
       "      <td>https://amitaro.net/wp-content/uploads/cfc421f...</td>\n",
       "      <td>あみたろ</td>\n",
       "      <td>あみたろ</td>\n",
       "      <td>ITA</td>\n",
       "      <td>ja</td>\n",
       "      <td>...</td>\n",
       "      <td>original</td>\n",
       "      <td>https://amitaro.net/voice/corpus-list/ita/</td>\n",
       "      <td>https://amitaro.net/voice/voice_rule/</td>\n",
       "      <td>True</td>\n",
       "      <td>0</td>\n",
       "      <td>https://twitter.com/amitaro_utau</td>\n",
       "      <td>https://amitaro.net/</td>\n",
       "      <td>NaN</td>\n",
       "      <td>NaN</td>\n",
       "      <td>NaN</td>\n",
       "    </tr>\n",
       "    <tr>\n",
       "      <th>1</th>\n",
       "      <td>1</td>\n",
       "      <td>刻鳴時雨 RVC用学習済みモデル</td>\n",
       "      <td>model</td>\n",
       "      <td>https://huggingface.co/yasyune/Shigure_Tokina_RVC</td>\n",
       "      <td>https://s2.booth.pm/4bbcead3-a3a3-40b7-8364-82...</td>\n",
       "      <td>https://s2.booth.pm/4bbcead3-a3a3-40b7-8364-82...</td>\n",
       "      <td>刻鳴時雨</td>\n",
       "      <td>丸ころ</td>\n",
       "      <td>ITA</td>\n",
       "      <td>ja</td>\n",
       "      <td>...</td>\n",
       "      <td>original</td>\n",
       "      <td>https://bindume-chan.booth.pm/items/3640133</td>\n",
       "      <td>https://bindume-chan.booth.pm/items/3640133</td>\n",
       "      <td>True</td>\n",
       "      <td>0</td>\n",
       "      <td>NaN</td>\n",
       "      <td>NaN</td>\n",
       "      <td>RVC</td>\n",
       "      <td>hubert_basr</td>\n",
       "      <td>https://bindume-chan.booth.pm/items/3640133</td>\n",
       "    </tr>\n",
       "    <tr>\n",
       "      <th>2</th>\n",
       "      <td>2</td>\n",
       "      <td>刻鳴時雨ITAコーパス読み上げ音声素材</td>\n",
       "      <td>voice</td>\n",
       "      <td>https://booth.pm/ja/items/3640133</td>\n",
       "      <td>https://s2.booth.pm/4bbcead3-a3a3-40b7-8364-82...</td>\n",
       "      <td>https://s2.booth.pm/4bbcead3-a3a3-40b7-8364-82...</td>\n",
       "      <td>刻鳴時雨</td>\n",
       "      <td>丸ころ</td>\n",
       "      <td>ITA</td>\n",
       "      <td>ja</td>\n",
       "      <td>...</td>\n",
       "      <td>original</td>\n",
       "      <td>https://bindume-chan.booth.pm/items/3640133</td>\n",
       "      <td>https://bindume-chan.booth.pm/items/3640133</td>\n",
       "      <td>True</td>\n",
       "      <td>0</td>\n",
       "      <td>NaN</td>\n",
       "      <td>NaN</td>\n",
       "      <td>NaN</td>\n",
       "      <td>NaN</td>\n",
       "      <td>NaN</td>\n",
       "    </tr>\n",
       "    <tr>\n",
       "      <th>3</th>\n",
       "      <td>3</td>\n",
       "      <td>黄琴まひろ　ITAコーパス読み上げ音声【1.00】</td>\n",
       "      <td>voice</td>\n",
       "      <td>https://kikyohiroto1227.wixsite.com/kikoto-uta...</td>\n",
       "      <td>https://www.youtube.com/embed/LT6D4Mx2xgo</td>\n",
       "      <td>https://static.wixstatic.com/media/8a7d85_767d...</td>\n",
       "      <td>黄琴まひろ</td>\n",
       "      <td>黄鏡博人</td>\n",
       "      <td>ITA</td>\n",
       "      <td>ja</td>\n",
       "      <td>...</td>\n",
       "      <td>original</td>\n",
       "      <td>https://kikyohiroto1227.wixsite.com/kikoto-uta...</td>\n",
       "      <td>https://kikyohiroto1227.wixsite.com/kikoto-uta...</td>\n",
       "      <td>True</td>\n",
       "      <td>0</td>\n",
       "      <td>https://twitter.com/KikyoHiloto</td>\n",
       "      <td>NaN</td>\n",
       "      <td>NaN</td>\n",
       "      <td>NaN</td>\n",
       "      <td>NaN</td>\n",
       "    </tr>\n",
       "    <tr>\n",
       "      <th>4</th>\n",
       "      <td>4</td>\n",
       "      <td>黄琴海月　ITAコーパス読み上げ音声【4.00】</td>\n",
       "      <td>voice</td>\n",
       "      <td>https://kikyohiroto1227.wixsite.com/kikoto-uta...</td>\n",
       "      <td>https://www.youtube.com/embed/SXnB8b1fKP4</td>\n",
       "      <td>https://static.wixstatic.com/media/8a7d85_5bec...</td>\n",
       "      <td>黄琴海月</td>\n",
       "      <td>黄鏡博人</td>\n",
       "      <td>ITA</td>\n",
       "      <td>ja</td>\n",
       "      <td>...</td>\n",
       "      <td>original</td>\n",
       "      <td>https://kikyohiroto1227.wixsite.com/kikoto-uta...</td>\n",
       "      <td>https://kikyohiroto1227.wixsite.com/kikoto-uta...</td>\n",
       "      <td>True</td>\n",
       "      <td>0</td>\n",
       "      <td>https://twitter.com/KikyoHiloto</td>\n",
       "      <td>NaN</td>\n",
       "      <td>NaN</td>\n",
       "      <td>NaN</td>\n",
       "      <td>NaN</td>\n",
       "    </tr>\n",
       "  </tbody>\n",
       "</table>\n",
       "<p>5 rows × 24 columns</p>\n",
       "</div>"
      ],
      "text/plain": [
       "   voice_id               display_name distribution_type  \\\n",
       "0         0         あみたろのITAコーパス読み上げ音声             voice   \n",
       "1         1           刻鳴時雨 RVC用学習済みモデル             model   \n",
       "2         2        刻鳴時雨ITAコーパス読み上げ音声素材             voice   \n",
       "3         3  黄琴まひろ　ITAコーパス読み上げ音声【1.00】             voice   \n",
       "4         4   黄琴海月　ITAコーパス読み上げ音声【4.00】             voice   \n",
       "\n",
       "                                                 url  \\\n",
       "0         https://amitaro.net/voice/corpus-list/ita/   \n",
       "1  https://huggingface.co/yasyune/Shigure_Tokina_RVC   \n",
       "2                  https://booth.pm/ja/items/3640133   \n",
       "3  https://kikyohiroto1227.wixsite.com/kikoto-uta...   \n",
       "4  https://kikyohiroto1227.wixsite.com/kikoto-uta...   \n",
       "\n",
       "                                        voice_sample  \\\n",
       "0          https://www.youtube.com/embed/ksKu6JyLP5I   \n",
       "1  https://s2.booth.pm/4bbcead3-a3a3-40b7-8364-82...   \n",
       "2  https://s2.booth.pm/4bbcead3-a3a3-40b7-8364-82...   \n",
       "3          https://www.youtube.com/embed/LT6D4Mx2xgo   \n",
       "4          https://www.youtube.com/embed/SXnB8b1fKP4   \n",
       "\n",
       "                                           thumbnail speaker actor corpus  \\\n",
       "0  https://amitaro.net/wp-content/uploads/cfc421f...    あみたろ  あみたろ    ITA   \n",
       "1  https://s2.booth.pm/4bbcead3-a3a3-40b7-8364-82...    刻鳴時雨   丸ころ    ITA   \n",
       "2  https://s2.booth.pm/4bbcead3-a3a3-40b7-8364-82...    刻鳴時雨   丸ころ    ITA   \n",
       "3  https://static.wixstatic.com/media/8a7d85_767d...   黄琴まひろ  黄鏡博人    ITA   \n",
       "4  https://static.wixstatic.com/media/8a7d85_5bec...    黄琴海月  黄鏡博人    ITA   \n",
       "\n",
       "  language  ... license_type  \\\n",
       "0       ja  ...     original   \n",
       "1       ja  ...     original   \n",
       "2       ja  ...     original   \n",
       "3       ja  ...     original   \n",
       "4       ja  ...     original   \n",
       "\n",
       "                                         license_url  \\\n",
       "0         https://amitaro.net/voice/corpus-list/ita/   \n",
       "1        https://bindume-chan.booth.pm/items/3640133   \n",
       "2        https://bindume-chan.booth.pm/items/3640133   \n",
       "3  https://kikyohiroto1227.wixsite.com/kikoto-uta...   \n",
       "4  https://kikyohiroto1227.wixsite.com/kikoto-uta...   \n",
       "\n",
       "                                          terms_link commercial_use price  \\\n",
       "0              https://amitaro.net/voice/voice_rule/           True     0   \n",
       "1        https://bindume-chan.booth.pm/items/3640133           True     0   \n",
       "2        https://bindume-chan.booth.pm/items/3640133           True     0   \n",
       "3  https://kikyohiroto1227.wixsite.com/kikoto-uta...           True     0   \n",
       "4  https://kikyohiroto1227.wixsite.com/kikoto-uta...           True     0   \n",
       "\n",
       "                            twitter              ex_url_1  model_type  \\\n",
       "0  https://twitter.com/amitaro_utau  https://amitaro.net/         NaN   \n",
       "1                               NaN                   NaN         RVC   \n",
       "2                               NaN                   NaN         NaN   \n",
       "3   https://twitter.com/KikyoHiloto                   NaN         NaN   \n",
       "4   https://twitter.com/KikyoHiloto                   NaN         NaN   \n",
       "\n",
       "    base_model                                  input_voice  \n",
       "0          NaN                                          NaN  \n",
       "1  hubert_basr  https://bindume-chan.booth.pm/items/3640133  \n",
       "2          NaN                                          NaN  \n",
       "3          NaN                                          NaN  \n",
       "4          NaN                                          NaN  \n",
       "\n",
       "[5 rows x 24 columns]"
      ]
     },
     "execution_count": 7,
     "metadata": {},
     "output_type": "execute_result"
    }
   ],
   "source": [
    "import pandas as pd\n",
    "meta_df = pd.read_csv(\"voice-changer-vector-search/data/meta.csv\")\n",
    "embeddings = np.load(\"voice-changer-vector-search/data/embeddings.npy\")\n",
    "meta_df.head()"
   ]
  },
  {
   "cell_type": "code",
   "execution_count": 8,
   "id": "b2a3a905",
   "metadata": {
    "ExecuteTime": {
     "end_time": "2023-05-11T15:56:00.025401Z",
     "start_time": "2023-05-11T15:56:00.010401Z"
    }
   },
   "outputs": [],
   "source": [
    "# あみたろ-sanのITAコーパス読み上げ音声を使う\n",
    "query_embedding = embeddings[0]"
   ]
  },
  {
   "cell_type": "markdown",
   "id": "5045adc8",
   "metadata": {},
   "source": [
    "## 検索パート"
   ]
  },
  {
   "cell_type": "markdown",
   "id": "66983391",
   "metadata": {},
   "source": [
    "### 検索"
   ]
  },
  {
   "cell_type": "code",
   "execution_count": null,
   "id": "80c165c3",
   "metadata": {
    "ExecuteTime": {
     "start_time": "2023-05-11T15:56:03.254Z"
    }
   },
   "outputs": [
    {
     "data": {
      "application/vnd.jupyter.widget-view+json": {
       "model_id": "a8b81fe8df7f4778a19d2113c9719344",
       "version_major": 2,
       "version_minor": 0
      },
      "text/plain": [
       "0it [00:00, ?it/s]"
      ]
     },
     "metadata": {},
     "output_type": "display_data"
    },
    {
     "data": {
      "application/vnd.jupyter.widget-view+json": {
       "model_id": "5d1621545e4b4d449cb366421772e606",
       "version_major": 2,
       "version_minor": 0
      },
      "text/plain": [
       "Reading metadata ...: 0it [00:00, ?it/s]"
      ]
     },
     "metadata": {},
     "output_type": "display_data"
    }
   ],
   "source": [
    "from heapq import heappush, heappushpop, heappop\n",
    "save_size = 10000\n",
    "result_heap = []\n",
    "count = 0\n",
    "with tqdm() as pbar:\n",
    "    for data in ds:\n",
    "        audio = data[\"audio\"]\n",
    "        input_ = {\n",
    "            \"waveform\": torch.from_numpy(audio[\"array\"].reshape([1, -1])).to(device=\"cuda\", dtype=torch.float32),\n",
    "            \"sample_rate\": audio[\"sampling_rate\"]\n",
    "        }\n",
    "        emb = embedding_inference(input_)        \n",
    "        target_embedding = emb / max(np.linalg.norm(emb, ord=2), 1e-9)\n",
    "        score = np.dot(query_embedding, target_embedding)\n",
    "        if len(result_heap) < save_size:\n",
    "            heappush(result_heap, [(score, count, audio)])\n",
    "        else:\n",
    "            heappushpop(result_heap, [(score, count, audio)])\n",
    "        count += 1\n",
    "        pbar.update(1)"
   ]
  },
  {
   "cell_type": "code",
   "execution_count": 9,
   "id": "ca07c1d6",
   "metadata": {
    "ExecuteTime": {
     "end_time": "2023-05-11T15:01:58.177328Z",
     "start_time": "2023-05-11T15:01:58.162116Z"
    }
   },
   "outputs": [],
   "source": [
    "scores = []\n",
    "audios = []\n",
    "while len(result_heap):\n",
    "    s, _, a = heappop(result_heap)[0]\n",
    "    scores.append(s)\n",
    "    audio = {\"array\": a[\"array\"].detach().numpy()[0],\n",
    "             \"sampling_rate\": int(a[\"sampling_rate\"][0].detach().numpy())}\n",
    "    audios.append(audio)"
   ]
  },
  {
   "cell_type": "markdown",
   "id": "254eba69",
   "metadata": {},
   "source": [
    "### 結果の確認\n",
    "スコアが低い順に並んでいるので使えそうな範囲をカット"
   ]
  },
  {
   "cell_type": "code",
   "execution_count": 10,
   "id": "02c79b42",
   "metadata": {
    "ExecuteTime": {
     "end_time": "2023-05-11T15:01:59.344901Z",
     "start_time": "2023-05-11T15:01:59.327894Z"
    }
   },
   "outputs": [],
   "source": [
    "from IPython.display import Audio\n",
    "index = -1\n",
    "# Audio(audios[index][\"array\"], rate=audios[index][\"sampling_rate\"], autoplay=True)"
   ]
  },
  {
   "cell_type": "markdown",
   "id": "a50ee5f3",
   "metadata": {
    "ExecuteTime": {
     "end_time": "2023-05-11T14:02:26.876324Z",
     "start_time": "2023-05-11T14:02:26.845654Z"
    }
   },
   "source": [
    "### 保存"
   ]
  },
  {
   "cell_type": "code",
   "execution_count": 12,
   "id": "bf3d82b2",
   "metadata": {
    "ExecuteTime": {
     "end_time": "2023-05-11T15:02:50.925690Z",
     "start_time": "2023-05-11T15:02:49.537165Z"
    }
   },
   "outputs": [],
   "source": [
    "target_dir = \"./output/reazonspeech_like_あみたろ_raw/\"\n",
    "os.makedirs(target_dir, exist_ok=True)\n",
    "\n",
    "for i, audio in enumerate(audios):\n",
    "    soundfile.write(target_dir + f\"{i}.wav\", audio[\"array\"], audio[\"sampling_rate\"])"
   ]
  }
 ],
 "metadata": {
  "kernelspec": {
   "display_name": "Python 3 (ipykernel)",
   "language": "python",
   "name": "python3"
  },
  "language_info": {
   "codemirror_mode": {
    "name": "ipython",
    "version": 3
   },
   "file_extension": ".py",
   "mimetype": "text/x-python",
   "name": "python",
   "nbconvert_exporter": "python",
   "pygments_lexer": "ipython3",
   "version": "3.9.7"
  },
  "toc": {
   "base_numbering": 1,
   "nav_menu": {},
   "number_sections": true,
   "sideBar": true,
   "skip_h1_title": false,
   "title_cell": "Table of Contents",
   "title_sidebar": "Contents",
   "toc_cell": false,
   "toc_position": {},
   "toc_section_display": true,
   "toc_window_display": false
  }
 },
 "nbformat": 4,
 "nbformat_minor": 5
}
