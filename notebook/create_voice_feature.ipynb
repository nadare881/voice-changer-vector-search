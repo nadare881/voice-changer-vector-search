{
 "cells": [
  {
   "cell_type": "markdown",
   "id": "615038be",
   "metadata": {
    "ExecuteTime": {
     "end_time": "2023-04-29T00:43:12.770531Z",
     "start_time": "2023-04-29T00:43:11.829889Z"
    }
   },
   "source": [
    "# 概要"
   ]
  },
  {
   "cell_type": "markdown",
   "id": "0a3b8668",
   "metadata": {},
   "source": [
    "# 設定"
   ]
  },
  {
   "cell_type": "markdown",
   "id": "bb14fd8b",
   "metadata": {
    "ExecuteTime": {
     "end_time": "2023-04-30T05:27:20.784903Z",
     "start_time": "2023-04-30T05:27:20.769905Z"
    }
   },
   "source": [
    "## ライブラリのimport"
   ]
  },
  {
   "cell_type": "code",
   "execution_count": 1,
   "id": "c0c71637",
   "metadata": {
    "ExecuteTime": {
     "end_time": "2023-05-04T05:00:16.951546Z",
     "start_time": "2023-05-04T05:00:12.922330Z"
    }
   },
   "outputs": [],
   "source": [
    "import json\n",
    "import os\n",
    "\n",
    "import numpy as np\n",
    "import pandas as pd\n",
    "\n",
    "from pyannote.audio import Model, Inference\n",
    "from IPython.display import Audio\n",
    "from tqdm.notebook import tqdm"
   ]
  },
  {
   "cell_type": "markdown",
   "id": "168f70ec",
   "metadata": {},
   "source": [
    "## ディレクトリの配置"
   ]
  },
  {
   "cell_type": "code",
   "execution_count": 2,
   "id": "16437663",
   "metadata": {
    "ExecuteTime": {
     "end_time": "2023-05-04T05:00:16.966551Z",
     "start_time": "2023-05-04T05:00:16.952548Z"
    }
   },
   "outputs": [],
   "source": [
    "import os\n",
    "import shutil\n",
    "os.makedirs(\"../input\", exist_ok=True)\n",
    "os.makedirs(\"../output\", exist_ok=True)"
   ]
  },
  {
   "cell_type": "markdown",
   "id": "0edec004",
   "metadata": {},
   "source": [
    "## HuggingFaceよりembeddingモデルのロード"
   ]
  },
  {
   "cell_type": "code",
   "execution_count": 3,
   "id": "f74d70de",
   "metadata": {
    "ExecuteTime": {
     "end_time": "2023-05-04T05:00:18.082478Z",
     "start_time": "2023-05-04T05:00:16.967552Z"
    }
   },
   "outputs": [],
   "source": [
    "token = \"your-huggingface-token\"\n",
    "model = Model.from_pretrained(\"pyannote/embedding\", \n",
    "                              use_auth_token=token)\n",
    "inference = Inference(model, window=\"whole\", device=\"cuda\")"
   ]
  },
  {
   "cell_type": "markdown",
   "id": "be2e96d7",
   "metadata": {},
   "source": [
    "## (optional) dataの解凍"
   ]
  },
  {
   "cell_type": "code",
   "execution_count": 4,
   "id": "e2791c90",
   "metadata": {
    "ExecuteTime": {
     "end_time": "2023-05-04T05:00:18.097673Z",
     "start_time": "2023-05-04T05:00:18.083480Z"
    }
   },
   "outputs": [],
   "source": [
    "# shutil.unpack_archive(\"your_data_path\", extract_dir=\"../input\")"
   ]
  },
  {
   "cell_type": "markdown",
   "id": "1962c6c6",
   "metadata": {},
   "source": [
    "## embeddingの抽出"
   ]
  },
  {
   "cell_type": "code",
   "execution_count": 5,
   "id": "ffc145e4",
   "metadata": {
    "ExecuteTime": {
     "end_time": "2023-05-04T05:00:24.656943Z",
     "start_time": "2023-05-04T05:00:18.098675Z"
    }
   },
   "outputs": [
    {
     "data": {
      "application/vnd.jupyter.widget-view+json": {
       "model_id": "e6e30b5a2607480faf6386a6e553efe0",
       "version_major": 2,
       "version_minor": 0
      },
      "text/plain": [
       "  0%|          | 0/424 [00:00<?, ?it/s]"
      ]
     },
     "metadata": {},
     "output_type": "display_data"
    }
   ],
   "source": [
    "search_dir = \"../dataset/ITAcorpus_amitaro/\"\n",
    "target_extension = \".wav\"\n",
    "paths = []\n",
    "for dirpath, dirnames, filenames in os.walk(search_dir):\n",
    "    for file in filenames:\n",
    "        if file.endswith(target_extension):\n",
    "            path = dirpath + \"/\" + file\n",
    "            paths.append(path)\n",
    "\n",
    "embeddings = np.stack([inference(path) for path in tqdm(paths)], axis=0)\n",
    "embeddings = (embeddings / np.maximum(1e-9, np.linalg.norm(embeddings, ord=2, axis=-1, keepdims=True))).mean(axis=0)\n",
    "output_embedding = embeddings / np.maximum(1e-9, np.linalg.norm(embeddings, ord=2, axis=-1, keepdims=True))\n",
    "np.save(\"../output/output_embedding.npy\", output_embedding)"
   ]
  },
  {
   "cell_type": "markdown",
   "id": "7fe9464c",
   "metadata": {
    "ExecuteTime": {
     "end_time": "2023-05-04T03:11:57.273922Z",
     "start_time": "2023-05-04T03:11:57.255967Z"
    }
   },
   "source": [
    "## meta情報の記入"
   ]
  },
  {
   "cell_type": "markdown",
   "id": "b9f08073",
   "metadata": {},
   "source": [
    "### 音声データセットの例"
   ]
  },
  {
   "cell_type": "code",
   "execution_count": 6,
   "id": "2afe8f17",
   "metadata": {
    "ExecuteTime": {
     "end_time": "2023-05-04T05:00:24.672196Z",
     "start_time": "2023-05-04T05:00:24.657945Z"
    }
   },
   "outputs": [
    {
     "name": "stdout",
     "output_type": "stream",
     "text": [
      "Overwriting ../output/output_meta.yaml\n"
     ]
    }
   ],
   "source": [
    "%%writefile ../output/output_meta.yaml\n",
    "management:\n",
    "  voice_id: 0\n",
    "display:\n",
    "  display_name: あみたろのITAコーパス読み上げ音声\n",
    "  distribution_type: voice\n",
    "  url: https://amitaro.net/voice/corpus-list/ita/\n",
    "  voice_sample: https://www.youtube.com/embed/ksKu6JyLP5I\n",
    "  thumbnail: https://amitaro.net/wp-content/uploads/cfc421fa043881e8a70485cbf9c04b39-150x150.png\n",
    "voice_info:\n",
    "  speaker: あみたろ\n",
    "  actor: あみたろ\n",
    "  corpus: ITA\n",
    "  language: ja\n",
    "  voice_gender: female\n",
    "license:\n",
    "  provider: あみたろの声素材工房\n",
    "  register: nadare\n",
    "  credit: あみたろの声素材工房\n",
    "  license_type: original\n",
    "  license_url: https://amitaro.net/voice/corpus-list/ita/\n",
    "  terms_link: https://amitaro.net/voice/voice_rule/\n",
    "  commercial_use: true\n",
    "  price: 0\n",
    "# model_info:\n",
    "#  model_type:\n",
    "#  base_model:\n",
    "#  training_client:\n",
    "#  input_voice: \n",
    "link:\n",
    "  twitter: https://twitter.com/amitaro_utau\n",
    "  ex_url_1: https://amitaro.net/\n",
    "#  ex_url_2:\n",
    "#  ex_url_3:\n"
   ]
  },
  {
   "cell_type": "markdown",
   "id": "9da8db49",
   "metadata": {},
   "source": [
    "### RVCの例"
   ]
  },
  {
   "cell_type": "code",
   "execution_count": null,
   "id": "a10d3c9b",
   "metadata": {},
   "outputs": [],
   "source": [
    "%%writefile ../output/output_meta.yaml\n",
    "management:\n",
    "  voice_id: 1\n",
    "display:\n",
    "  display_name: 刻鳴時雨 RVC用学習済みモデル\n",
    "  distribution_type: model\n",
    "  url: https://huggingface.co/yasyune/Shigure_Tokina_RVC\n",
    "#  voice_sample: \n",
    "  thumbnail: https://s2.booth.pm/4bbcead3-a3a3-40b7-8364-82e59ad26919/i/3640133/2b6374d2-6fea-441d-8fbb-57080de1ff06_base_resized.jpg\n",
    "voice_info:\n",
    "  speaker: 刻鳴時雨\n",
    "  actor: 丸ころ\n",
    "  corpus: ITA\n",
    "  language: ja\n",
    "  voice_gender: male\n",
    "license:\n",
    "  provider: 瓶詰め\n",
    "  register: nadare\n",
    "  credit: 瓶詰め\n",
    "  license_type: original\n",
    "  license_url: https://bindume-chan.booth.pm/items/3640133\n",
    "  terms_link: https://bindume-chan.booth.pm/items/3640133\n",
    "  commercial_use: true\n",
    "  price: 0\n",
    "model_info:\n",
    "  model_type: RVC\n",
    "  base_model: hubert_basr\n",
    "#  training_client:\n",
    "  input_voice: https://bindume-chan.booth.pm/items/3640133\n",
    "# link:\n",
    "#  twitter:\n",
    "#  ex_url_1:\n",
    "#  ex_url_2:\n",
    "#  ex_url_3:\n"
   ]
  },
  {
   "cell_type": "markdown",
   "id": "9501c62e",
   "metadata": {},
   "source": [
    "# (optional) datasetの更新"
   ]
  },
  {
   "cell_type": "code",
   "execution_count": 7,
   "id": "e148798f",
   "metadata": {
    "ExecuteTime": {
     "end_time": "2023-05-04T05:00:26.102432Z",
     "start_time": "2023-05-04T05:00:25.133704Z"
    }
   },
   "outputs": [
    {
     "name": "stderr",
     "output_type": "stream",
     "text": [
      "fatal: destination path 'voice-changer-vector-search' already exists and is not an empty directory.\n"
     ]
    },
    {
     "name": "stdout",
     "output_type": "stream",
     "text": [
      "Already up to date.\n"
     ]
    },
    {
     "name": "stderr",
     "output_type": "stream",
     "text": [
      "From https://github.com/nadare881/voice-changer-vector-search\n",
      " * branch            develop    -> FETCH_HEAD\n"
     ]
    },
    {
     "name": "stdout",
     "output_type": "stream",
     "text": [
      "Your branch is ahead of 'origin/develop' by 1 commit.\n",
      "  (use \"git push\" to publish your local commits)\n"
     ]
    },
    {
     "name": "stderr",
     "output_type": "stream",
     "text": [
      "Already on 'develop'\n"
     ]
    },
    {
     "name": "stdout",
     "output_type": "stream",
     "text": [
      "HEAD is now at abba4c7 develop縺ｮ霑ｽ蜉\n"
     ]
    },
    {
     "name": "stderr",
     "output_type": "stream",
     "text": [
      "Switched to branch 'register'\n"
     ]
    },
    {
     "name": "stdout",
     "output_type": "stream",
     "text": [
      "HEAD is now at 7d28dbb register request\n"
     ]
    }
   ],
   "source": [
    "!git clone https://github.com/nadare881/voice-changer-vector-search.git\n",
    "os.chdir(\"./voice-changer-vector-search\")\n",
    "!git pull origin develop\n",
    "!git checkout develop\n",
    "!git reset --hard origin/develop\n",
    "!git checkout register\n",
    "!git reset --hard origin/register\n",
    "os.chdir(\"../\")"
   ]
  },
  {
   "cell_type": "code",
   "execution_count": 9,
   "id": "97818cf1",
   "metadata": {
    "ExecuteTime": {
     "end_time": "2023-05-04T05:00:46.309056Z",
     "start_time": "2023-05-04T05:00:46.284792Z"
    }
   },
   "outputs": [
    {
     "data": {
      "text/html": [
       "<div>\n",
       "<style scoped>\n",
       "    .dataframe tbody tr th:only-of-type {\n",
       "        vertical-align: middle;\n",
       "    }\n",
       "\n",
       "    .dataframe tbody tr th {\n",
       "        vertical-align: top;\n",
       "    }\n",
       "\n",
       "    .dataframe thead th {\n",
       "        text-align: right;\n",
       "    }\n",
       "</style>\n",
       "<table border=\"1\" class=\"dataframe\">\n",
       "  <thead>\n",
       "    <tr style=\"text-align: right;\">\n",
       "      <th></th>\n",
       "      <th>voice_id</th>\n",
       "      <th>display_name</th>\n",
       "      <th>distribution_type</th>\n",
       "      <th>url</th>\n",
       "      <th>voice_sample</th>\n",
       "      <th>thumbnail</th>\n",
       "      <th>speaker</th>\n",
       "      <th>actor</th>\n",
       "      <th>corpus</th>\n",
       "      <th>language</th>\n",
       "      <th>...</th>\n",
       "      <th>provider</th>\n",
       "      <th>register</th>\n",
       "      <th>credit</th>\n",
       "      <th>license_type</th>\n",
       "      <th>license_url</th>\n",
       "      <th>terms_link</th>\n",
       "      <th>commercial_use</th>\n",
       "      <th>price</th>\n",
       "      <th>twitter</th>\n",
       "      <th>ex_url_1</th>\n",
       "    </tr>\n",
       "  </thead>\n",
       "  <tbody>\n",
       "    <tr>\n",
       "      <th>0</th>\n",
       "      <td>0</td>\n",
       "      <td>あみたろのITAコーパス読み上げ音声</td>\n",
       "      <td>voice</td>\n",
       "      <td>https://amitaro.net/voice/corpus-list/ita/</td>\n",
       "      <td>https://www.youtube.com/embed/ksKu6JyLP5I</td>\n",
       "      <td>https://amitaro.net/wp-content/uploads/cfc421f...</td>\n",
       "      <td>あみたろ</td>\n",
       "      <td>あみたろ</td>\n",
       "      <td>ITA</td>\n",
       "      <td>ja</td>\n",
       "      <td>...</td>\n",
       "      <td>あみたろの声素材工房</td>\n",
       "      <td>nadare</td>\n",
       "      <td>あみたろの声素材工房</td>\n",
       "      <td>original</td>\n",
       "      <td>https://amitaro.net/voice/corpus-list/ita/</td>\n",
       "      <td>https://amitaro.net/voice/voice_rule/</td>\n",
       "      <td>True</td>\n",
       "      <td>0</td>\n",
       "      <td>https://twitter.com/amitaro_utau</td>\n",
       "      <td>https://amitaro.net/</td>\n",
       "    </tr>\n",
       "  </tbody>\n",
       "</table>\n",
       "<p>1 rows × 21 columns</p>\n",
       "</div>"
      ],
      "text/plain": [
       "   voice_id        display_name distribution_type  \\\n",
       "0         0  あみたろのITAコーパス読み上げ音声             voice   \n",
       "\n",
       "                                          url  \\\n",
       "0  https://amitaro.net/voice/corpus-list/ita/   \n",
       "\n",
       "                                voice_sample  \\\n",
       "0  https://www.youtube.com/embed/ksKu6JyLP5I   \n",
       "\n",
       "                                           thumbnail speaker actor corpus  \\\n",
       "0  https://amitaro.net/wp-content/uploads/cfc421f...    あみたろ  あみたろ    ITA   \n",
       "\n",
       "  language  ...    provider register      credit license_type  \\\n",
       "0       ja  ...  あみたろの声素材工房   nadare  あみたろの声素材工房     original   \n",
       "\n",
       "                                  license_url  \\\n",
       "0  https://amitaro.net/voice/corpus-list/ita/   \n",
       "\n",
       "                              terms_link commercial_use  price  \\\n",
       "0  https://amitaro.net/voice/voice_rule/           True      0   \n",
       "\n",
       "                            twitter              ex_url_1  \n",
       "0  https://twitter.com/amitaro_utau  https://amitaro.net/  \n",
       "\n",
       "[1 rows x 21 columns]"
      ]
     },
     "execution_count": 9,
     "metadata": {},
     "output_type": "execute_result"
    }
   ],
   "source": [
    "import yaml\n",
    "meta_df = pd.read_csv(\"./voice-changer-vector-search/data/meta.csv\")\n",
    "with open(\"../output/output_meta.yaml\", encoding=\"utf-8\") as f:\n",
    "    meta = yaml.safe_load(f)\n",
    "meta_dict = {}\n",
    "for m in meta.values():\n",
    "    meta_dict.update(m)\n",
    "meta_df = pd.concat([meta_df, pd.DataFrame([meta_dict])], axis=0).reset_index(drop=True)\n",
    "\n",
    "embeddings = np.concatenate([np.load(\"./voice-changer-vector-search/data/embeddings.npy\"), np.expand_dims(output_embedding, axis=0)], axis=0)\n",
    "meta_df.tail(5)"
   ]
  },
  {
   "cell_type": "code",
   "execution_count": 10,
   "id": "469dabe6",
   "metadata": {
    "ExecuteTime": {
     "end_time": "2023-05-04T05:01:01.569402Z",
     "start_time": "2023-05-04T05:01:01.549036Z"
    }
   },
   "outputs": [],
   "source": [
    "display_columns = list(meta[\"display\"].keys())\n",
    "meta_df.to_csv(\"./voice-changer-vector-search/data/meta.csv\", index=None, encoding=\"utf-8\")\n",
    "meta_df[list(meta[\"display\"].keys())].to_csv(\"./voice-changer-vector-search/data/meta.tsv\", index=None, encoding=\"utf-8\", sep=\"\\t\")\n",
    "np.save(\"./voice-changer-vector-search/data/embeddings.npy\", embeddings)\n",
    "pd.DataFrame(embeddings).astype(np.float16).to_csv(\"./voice-changer-vector-search/data/embeddings.tsv\", index=None, header=None, encoding=\"utf-8\", sep=\"\\t\")"
   ]
  },
  {
   "cell_type": "code",
   "execution_count": 11,
   "id": "f4de04ef",
   "metadata": {
    "ExecuteTime": {
     "end_time": "2023-05-04T05:01:04.925559Z",
     "start_time": "2023-05-04T05:01:03.018049Z"
    }
   },
   "outputs": [
    {
     "name": "stdout",
     "output_type": "stream",
     "text": [
      "[register d9299da] register request\n",
      " 4 files changed, 3 insertions(+), 2 deletions(-)\n",
      " rewrite data/meta.csv (100%)\n",
      " copy data/{meta.csv => meta.tsv} (100%)\n",
      "branch 'register' set up to track 'origin/register'.\n"
     ]
    },
    {
     "name": "stderr",
     "output_type": "stream",
     "text": [
      "remote: Resolving deltas:   0% (0/4)        \n",
      "remote: Resolving deltas:  25% (1/4)        \n",
      "remote: Resolving deltas:  50% (2/4)        \n",
      "remote: Resolving deltas:  75% (3/4)        \n",
      "remote: Resolving deltas: 100% (4/4)        \n",
      "remote: Resolving deltas: 100% (4/4), completed with 1 local object.        \n",
      "To https://github.com/nadare881/voice-changer-vector-search\n",
      "   abba4c7..d9299da  register -> register\n"
     ]
    },
    {
     "name": "stdout",
     "output_type": "stream",
     "text": [
      "Your branch is ahead of 'origin/main' by 1 commit."
     ]
    },
    {
     "name": "stderr",
     "output_type": "stream",
     "text": [
      "Switched to branch 'main'\n"
     ]
    },
    {
     "name": "stdout",
     "output_type": "stream",
     "text": [
      "\n",
      "  (use \"git push\" to publish your local commits)\n",
      "Deleted branch register (was d9299da).\n"
     ]
    }
   ],
   "source": [
    "os.chdir(\"./voice-changer-vector-search\")\n",
    "!git add ./data/*\n",
    "!git commit -m \"register request\"\n",
    "!git push -u origin register\n",
    "!git checkout main\n",
    "!git branch -D register\n",
    "os.chdir(\"../\")"
   ]
  },
  {
   "cell_type": "code",
   "execution_count": null,
   "id": "398b3ae6",
   "metadata": {},
   "outputs": [],
   "source": []
  }
 ],
 "metadata": {
  "kernelspec": {
   "display_name": "base",
   "language": "python",
   "name": "base"
  },
  "language_info": {
   "codemirror_mode": {
    "name": "ipython",
    "version": 3
   },
   "file_extension": ".py",
   "mimetype": "text/x-python",
   "name": "python",
   "nbconvert_exporter": "python",
   "pygments_lexer": "ipython3",
   "version": "3.9.7"
  },
  "toc": {
   "base_numbering": 1,
   "nav_menu": {},
   "number_sections": true,
   "sideBar": true,
   "skip_h1_title": false,
   "title_cell": "Table of Contents",
   "title_sidebar": "Contents",
   "toc_cell": false,
   "toc_position": {},
   "toc_section_display": true,
   "toc_window_display": false
  }
 },
 "nbformat": 4,
 "nbformat_minor": 5
}
