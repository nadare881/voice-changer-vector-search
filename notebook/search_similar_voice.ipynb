{
  "nbformat": 4,
  "nbformat_minor": 0,
  "metadata": {
    "colab": {
      "provenance": [],
      "authorship_tag": "ABX9TyMDcs7tWh/yWHAt6AAs0Ug5",
      "include_colab_link": true
    },
    "kernelspec": {
      "name": "python3",
      "display_name": "Python 3"
    },
    "language_info": {
      "name": "python"
    },
    "accelerator": "GPU",
    "gpuClass": "standard",
    "widgets": {
      "application/vnd.jupyter.widget-state+json": {
        "d9c1ca9b1eee46ad8c13bb9c8db0a455": {
          "model_module": "@jupyter-widgets/controls",
          "model_name": "HBoxModel",
          "model_module_version": "1.5.0",
          "state": {
            "_dom_classes": [],
            "_model_module": "@jupyter-widgets/controls",
            "_model_module_version": "1.5.0",
            "_model_name": "HBoxModel",
            "_view_count": null,
            "_view_module": "@jupyter-widgets/controls",
            "_view_module_version": "1.5.0",
            "_view_name": "HBoxView",
            "box_style": "",
            "children": [
              "IPY_MODEL_47b533eb4e8647e485ec81b3f2386049",
              "IPY_MODEL_9bd72a17ece54327b2106a5459cfc193",
              "IPY_MODEL_14557dfc347d49a3b35a00db6ca43fb3"
            ],
            "layout": "IPY_MODEL_7de9ec7bca20479c960e288aff8c1a3c"
          }
        }
      }
    }
  },
  "cells": [
    {
      "cell_type": "markdown",
      "metadata": {
        "id": "view-in-github",
        "colab_type": "text"
      },
      "source": [
        "<a href=\"https://colab.research.google.com/github/nadare881/voice-changer-vector-search/blob/develop/notebook/search_similar_voice.ipynb\" target=\"_parent\"><img src=\"https://colab.research.google.com/assets/colab-badge.svg\" alt=\"Open In Colab\"/></a>"
      ]
    },
    {
      "cell_type": "markdown",
      "source": [
        "# 概要\n",
        "本notebookでは音声ファイルから類似したデータセット・モデルの検索を行います\n",
        "\n",
        "`ランタイム > ランタイムのタイプを変更 > ハードウェアアクセラレータ` から`GPU`を選択してください。"
      ],
      "metadata": {
        "id": "Xdoqfnc_oAjZ"
      }
    },
    {
      "cell_type": "markdown",
      "source": [
        "# 準備コード\n",
        "## ライブラリのインストール"
      ],
      "metadata": {
        "id": "fZExaQp2oKwm"
      }
    },
    {
      "cell_type": "code",
      "source": [
        "!pip install -qq https://github.com/pyannote/pyannote-audio/archive/refs/heads/develop.zip"
      ],
      "metadata": {
        "colab": {
          "base_uri": "https://localhost:8080/"
        },
        "id": "TVTUj7wbntMB",
        "outputId": "fa7fc9ed-1114-4ffe-fc9e-07047b806e9d"
      },
      "execution_count": 1,
      "outputs": [
        {
          "output_type": "stream",
          "name": "stdout",
          "text": [
            "\u001b[2K     \u001b[32m|\u001b[0m \u001b[32m16.6 MB\u001b[0m \u001b[31m5.3 MB/s\u001b[0m \u001b[33m0:00:04\u001b[0m\n",
            "\u001b[?25h  Preparing metadata (setup.py) ... \u001b[?25l\u001b[?25hdone\n",
            "\u001b[2K     \u001b[90m━━━━━━━━━━━━━━━━━━━━━━━━━━━━━━━━━━━━━━━━\u001b[0m \u001b[32m42.2/42.2 kB\u001b[0m \u001b[31m5.6 MB/s\u001b[0m eta \u001b[36m0:00:00\u001b[0m\n",
            "\u001b[2K     \u001b[90m━━━━━━━━━━━━━━━━━━━━━━━━━━━━━━━━━━━━━━\u001b[0m \u001b[32m224.5/224.5 kB\u001b[0m \u001b[31m23.0 MB/s\u001b[0m eta \u001b[36m0:00:00\u001b[0m\n",
            "\u001b[2K     \u001b[90m━━━━━━━━━━━━━━━━━━━━━━━━━━━━━━━━━━━━━━━━\u001b[0m \u001b[32m1.8/1.8 MB\u001b[0m \u001b[31m30.4 MB/s\u001b[0m eta \u001b[36m0:00:00\u001b[0m\n",
            "\u001b[2K     \u001b[90m━━━━━━━━━━━━━━━━━━━━━━━━━━━━━━━━━━━━━━━━\u001b[0m \u001b[32m79.5/79.5 kB\u001b[0m \u001b[31m10.5 MB/s\u001b[0m eta \u001b[36m0:00:00\u001b[0m\n",
            "\u001b[2K     \u001b[90m━━━━━━━━━━━━━━━━━━━━━━━━━━━━━━━━━━━━━━━━\u001b[0m \u001b[32m58.5/58.5 kB\u001b[0m \u001b[31m3.4 MB/s\u001b[0m eta \u001b[36m0:00:00\u001b[0m\n",
            "\u001b[2K     \u001b[90m━━━━━━━━━━━━━━━━━━━━━━━━━━━━━━━━━━━━━━━━\u001b[0m \u001b[32m48.1/48.1 kB\u001b[0m \u001b[31m5.1 MB/s\u001b[0m eta \u001b[36m0:00:00\u001b[0m\n",
            "\u001b[2K     \u001b[90m━━━━━━━━━━━━━━━━━━━━━━━━━━━━━━━━━━━━━━━━\u001b[0m \u001b[32m51.4/51.4 kB\u001b[0m \u001b[31m6.5 MB/s\u001b[0m eta \u001b[36m0:00:00\u001b[0m\n",
            "\u001b[2K     \u001b[90m━━━━━━━━━━━━━━━━━━━━━━━━━━━━━━━━━━━━━━━\u001b[0m \u001b[32m110.8/110.8 kB\u001b[0m \u001b[31m6.4 MB/s\u001b[0m eta \u001b[36m0:00:00\u001b[0m\n",
            "\u001b[2K     \u001b[90m━━━━━━━━━━━━━━━━━━━━━━━━━━━━━━━━━━━━━━\u001b[0m \u001b[32m519.0/519.0 kB\u001b[0m \u001b[31m36.6 MB/s\u001b[0m eta \u001b[36m0:00:00\u001b[0m\n",
            "\u001b[2K     \u001b[90m━━━━━━━━━━━━━━━━━━━━━━━━━━━━━━━━━━━━━━\u001b[0m \u001b[32m114.5/114.5 kB\u001b[0m \u001b[31m13.9 MB/s\u001b[0m eta \u001b[36m0:00:00\u001b[0m\n",
            "\u001b[2K     \u001b[90m━━━━━━━━━━━━━━━━━━━━━━━━━━━━━━━━━━━━━━━━\u001b[0m \u001b[32m47.9/47.9 kB\u001b[0m \u001b[31m4.7 MB/s\u001b[0m eta \u001b[36m0:00:00\u001b[0m\n",
            "\u001b[2K     \u001b[90m━━━━━━━━━━━━━━━━━━━━━━━━━━━━━━━━━━━━━━\u001b[0m \u001b[32m519.2/519.2 kB\u001b[0m \u001b[31m42.0 MB/s\u001b[0m eta \u001b[36m0:00:00\u001b[0m\n",
            "\u001b[2K     \u001b[90m━━━━━━━━━━━━━━━━━━━━━━━━━━━━━━━━━━━━━━\u001b[0m \u001b[32m129.9/129.9 kB\u001b[0m \u001b[31m15.6 MB/s\u001b[0m eta \u001b[36m0:00:00\u001b[0m\n",
            "\u001b[2K     \u001b[90m━━━━━━━━━━━━━━━━━━━━━━━━━━━━━━━━━━━━━━━━\u001b[0m \u001b[32m66.9/66.9 kB\u001b[0m \u001b[31m8.4 MB/s\u001b[0m eta \u001b[36m0:00:00\u001b[0m\n",
            "\u001b[2K     \u001b[90m━━━━━━━━━━━━━━━━━━━━━━━━━━━━━━━━━━━━━━━━\u001b[0m \u001b[32m66.4/66.4 kB\u001b[0m \u001b[31m9.1 MB/s\u001b[0m eta \u001b[36m0:00:00\u001b[0m\n",
            "\u001b[2K     \u001b[90m━━━━━━━━━━━━━━━━━━━━━━━━━━━━━━━━━━━━━━━━\u001b[0m \u001b[32m69.7/69.7 kB\u001b[0m \u001b[31m9.7 MB/s\u001b[0m eta \u001b[36m0:00:00\u001b[0m\n",
            "\u001b[2K     \u001b[90m━━━━━━━━━━━━━━━━━━━━━━━━━━━━━━━━━━━━━━━━\u001b[0m \u001b[32m58.3/58.3 kB\u001b[0m \u001b[31m8.8 MB/s\u001b[0m eta \u001b[36m0:00:00\u001b[0m\n",
            "\u001b[2K     \u001b[90m━━━━━━━━━━━━━━━━━━━━━━━━━━━━━━━━━━━━━━\u001b[0m \u001b[32m719.0/719.0 kB\u001b[0m \u001b[31m55.6 MB/s\u001b[0m eta \u001b[36m0:00:00\u001b[0m\n",
            "\u001b[2K     \u001b[90m━━━━━━━━━━━━━━━━━━━━━━━━━━━━━━━━━━━━━━\u001b[0m \u001b[32m557.1/557.1 kB\u001b[0m \u001b[31m42.7 MB/s\u001b[0m eta \u001b[36m0:00:00\u001b[0m\n",
            "\u001b[2K     \u001b[90m━━━━━━━━━━━━━━━━━━━━━━━━━━━━━━━━━━━━━━━━\u001b[0m \u001b[32m55.5/55.5 kB\u001b[0m \u001b[31m7.1 MB/s\u001b[0m eta \u001b[36m0:00:00\u001b[0m\n",
            "\u001b[2K     \u001b[90m━━━━━━━━━━━━━━━━━━━━━━━━━━━━━━━━━━━━━━\u001b[0m \u001b[32m117.0/117.0 kB\u001b[0m \u001b[31m15.7 MB/s\u001b[0m eta \u001b[36m0:00:00\u001b[0m\n",
            "\u001b[?25h  Preparing metadata (setup.py) ... \u001b[?25l\u001b[?25hdone\n",
            "  Preparing metadata (setup.py) ... \u001b[?25l\u001b[?25hdone\n",
            "\u001b[2K     \u001b[90m━━━━━━━━━━━━━━━━━━━━━━━━━━━━━━━━━━━━━━\u001b[0m \u001b[32m365.7/365.7 kB\u001b[0m \u001b[31m38.9 MB/s\u001b[0m eta \u001b[36m0:00:00\u001b[0m\n",
            "\u001b[2K     \u001b[90m━━━━━━━━━━━━━━━━━━━━━━━━━━━━━━━━━━━━━━━━\u001b[0m \u001b[32m1.3/1.3 MB\u001b[0m \u001b[31m86.6 MB/s\u001b[0m eta \u001b[36m0:00:00\u001b[0m\n",
            "\u001b[2K     \u001b[90m━━━━━━━━━━━━━━━━━━━━━━━━━━━━━━━━━━━━━━━━\u001b[0m \u001b[32m59.6/59.6 kB\u001b[0m \u001b[31m8.6 MB/s\u001b[0m eta \u001b[36m0:00:00\u001b[0m\n",
            "\u001b[?25h  Preparing metadata (setup.py) ... \u001b[?25l\u001b[?25hdone\n",
            "\u001b[2K     \u001b[90m━━━━━━━━━━━━━━━━━━━━━━━━━━━━━━━━━━━━━━━━\u001b[0m \u001b[32m64.3/64.3 kB\u001b[0m \u001b[31m9.8 MB/s\u001b[0m eta \u001b[36m0:00:00\u001b[0m\n",
            "\u001b[2K     \u001b[90m━━━━━━━━━━━━━━━━━━━━━━━━━━━━━━━━━━━━━━━━\u001b[0m \u001b[32m1.0/1.0 MB\u001b[0m \u001b[31m78.5 MB/s\u001b[0m eta \u001b[36m0:00:00\u001b[0m\n",
            "\u001b[2K     \u001b[90m━━━━━━━━━━━━━━━━━━━━━━━━━━━━━━━━━━━━━━━━\u001b[0m \u001b[32m58.4/58.4 kB\u001b[0m \u001b[31m8.3 MB/s\u001b[0m eta \u001b[36m0:00:00\u001b[0m\n",
            "\u001b[2K     \u001b[90m━━━━━━━━━━━━━━━━━━━━━━━━━━━━━━━━━━━━━━━━\u001b[0m \u001b[32m45.7/45.7 kB\u001b[0m \u001b[31m6.8 MB/s\u001b[0m eta \u001b[36m0:00:00\u001b[0m\n",
            "\u001b[2K     \u001b[90m━━━━━━━━━━━━━━━━━━━━━━━━━━━━━━━━━━━━━━\u001b[0m \u001b[32m212.9/212.9 kB\u001b[0m \u001b[31m26.7 MB/s\u001b[0m eta \u001b[36m0:00:00\u001b[0m\n",
            "\u001b[2K     \u001b[90m━━━━━━━━━━━━━━━━━━━━━━━━━━━━━━━━━━━━━━\u001b[0m \u001b[32m237.5/237.5 kB\u001b[0m \u001b[31m25.9 MB/s\u001b[0m eta \u001b[36m0:00:00\u001b[0m\n",
            "\u001b[2K     \u001b[90m━━━━━━━━━━━━━━━━━━━━━━━━━━━━━━━━━━━━━━━━\u001b[0m \u001b[32m51.1/51.1 kB\u001b[0m \u001b[31m6.7 MB/s\u001b[0m eta \u001b[36m0:00:00\u001b[0m\n",
            "\u001b[2K     \u001b[90m━━━━━━━━━━━━━━━━━━━━━━━━━━━━━━━━━━━━━━━━\u001b[0m \u001b[32m58.3/58.3 kB\u001b[0m \u001b[31m8.6 MB/s\u001b[0m eta \u001b[36m0:00:00\u001b[0m\n",
            "\u001b[2K     \u001b[90m━━━━━━━━━━━━━━━━━━━━━━━━━━━━━━━━━━━━━━\u001b[0m \u001b[32m107.8/107.8 kB\u001b[0m \u001b[31m15.4 MB/s\u001b[0m eta \u001b[36m0:00:00\u001b[0m\n",
            "\u001b[2K     \u001b[90m━━━━━━━━━━━━━━━━━━━━━━━━━━━━━━━━━━━━━━\u001b[0m \u001b[32m268.8/268.8 kB\u001b[0m \u001b[31m33.5 MB/s\u001b[0m eta \u001b[36m0:00:00\u001b[0m\n",
            "\u001b[2K     \u001b[90m━━━━━━━━━━━━━━━━━━━━━━━━━━━━━━━━━━━━━━\u001b[0m \u001b[32m114.5/114.5 kB\u001b[0m \u001b[31m14.1 MB/s\u001b[0m eta \u001b[36m0:00:00\u001b[0m\n",
            "\u001b[2K     \u001b[90m━━━━━━━━━━━━━━━━━━━━━━━━━━━━━━━━━━━━━━\u001b[0m \u001b[32m149.6/149.6 kB\u001b[0m \u001b[31m15.6 MB/s\u001b[0m eta \u001b[36m0:00:00\u001b[0m\n",
            "\u001b[2K     \u001b[90m━━━━━━━━━━━━━━━━━━━━━━━━━━━━━━━━━━━━━━━━\u001b[0m \u001b[32m78.7/78.7 kB\u001b[0m \u001b[31m10.2 MB/s\u001b[0m eta \u001b[36m0:00:00\u001b[0m\n",
            "\u001b[2K     \u001b[90m━━━━━━━━━━━━━━━━━━━━━━━━━━━━━━━━━━━━━━\u001b[0m \u001b[32m485.6/485.6 kB\u001b[0m \u001b[31m49.5 MB/s\u001b[0m eta \u001b[36m0:00:00\u001b[0m\n",
            "\u001b[?25h  Building wheel for pyannote.audio (setup.py) ... \u001b[?25l\u001b[?25hdone\n",
            "  Building wheel for antlr4-python3-runtime (setup.py) ... \u001b[?25l\u001b[?25hdone\n",
            "  Building wheel for docopt (setup.py) ... \u001b[?25l\u001b[?25hdone\n",
            "  Building wheel for julius (setup.py) ... \u001b[?25l\u001b[?25hdone\n"
          ]
        }
      ]
    },
    {
      "cell_type": "markdown",
      "source": [
        "## リポジトリのクローン + DBの整備"
      ],
      "metadata": {
        "id": "-Jq9xN3rqeCz"
      }
    },
    {
      "cell_type": "code",
      "source": [
        "!git clone https://github.com/nadare881/voice-changer-vector-search.git"
      ],
      "metadata": {
        "colab": {
          "base_uri": "https://localhost:8080/"
        },
        "id": "PbNRKsw2nsMh",
        "outputId": "1289c211-c726-4df9-ee9f-1217a2b8709c"
      },
      "execution_count": 2,
      "outputs": [
        {
          "output_type": "stream",
          "name": "stdout",
          "text": [
            "Cloning into 'voice-changer-vector-search'...\n",
            "remote: Enumerating objects: 84, done.\u001b[K\n",
            "remote: Counting objects: 100% (84/84), done.\u001b[K\n",
            "remote: Compressing objects: 100% (58/58), done.\u001b[K\n",
            "remote: Total 84 (delta 27), reused 69 (delta 19), pack-reused 0\u001b[K\n",
            "Unpacking objects: 100% (84/84), 305.02 KiB | 1.01 MiB/s, done.\n"
          ]
        }
      ]
    },
    {
      "cell_type": "code",
      "source": [
        "import numpy as np\n",
        "import pandas as pd\n",
        "\n",
        "source_embedding = np.load(\"./voice-changer-vector-search/data/embeddings.npy\")\n",
        "meta_df = pd.read_csv(\"./voice-changer-vector-search/data/meta.csv\", encoding=\"utf-8\")"
      ],
      "metadata": {
        "id": "2pEaAt2UuTMz"
      },
      "execution_count": 3,
      "outputs": []
    },
    {
      "cell_type": "markdown",
      "source": [
        "## modelのロード\n",
        "必要なもの: \n",
        "\n",
        "- HuggingFaceのアカウント + token\n",
        "- https://huggingface.co/pyannote/embedding のユーザー規約への同意"
      ],
      "metadata": {
        "id": "jUPtoEjlq456"
      }
    },
    {
      "cell_type": "code",
      "source": [
        "from pyannote.audio import Model, Inference\n",
        "# ここにtokenを入力してください\n",
        "token = \"your-huggingface-token\"\n",
        "model = Model.from_pretrained(\"pyannote/embedding\", \n",
        "                              use_auth_token=token)\n",
        "inference = Inference(model, window=\"whole\", device=\"cuda\")"
      ],
      "metadata": {
        "colab": {
          "base_uri": "https://localhost:8080/",
          "height": 146,
          "referenced_widgets": [
            "d9c1ca9b1eee46ad8c13bb9c8db0a455"
          ]
        },
        "id": "BjKpK7YeqloU",
        "outputId": "8b85587b-3524-435b-ae5e-e5004744be88"
      },
      "execution_count": 4,
      "outputs": [
        {
          "output_type": "display_data",
          "data": {
            "text/plain": [
              "Downloading (…)lve/main/config.yaml:   0%|          | 0.00/2.00k [00:00<?, ?B/s]"
            ],
            "application/vnd.jupyter.widget-view+json": {
              "version_major": 2,
              "version_minor": 0,
              "model_id": "d9c1ca9b1eee46ad8c13bb9c8db0a455"
            }
          },
          "metadata": {}
        },
        {
          "output_type": "stream",
          "name": "stderr",
          "text": [
            "INFO:pytorch_lightning.utilities.migration.utils:Lightning automatically upgraded your loaded checkpoint from v1.2.7 to v2.0.2. To apply the upgrade to your files permanently, run `python -m pytorch_lightning.utilities.upgrade_checkpoint --file ../root/.cache/torch/pyannote/models--pyannote--embedding/snapshots/20b2db779562a3141f5eadd34a0232dbcd56d620/pytorch_model.bin`\n",
            "INFO:pytorch_lightning.utilities.migration.utils:Lightning automatically upgraded your loaded checkpoint from v1.2.7 to v2.0.2. To apply the upgrade to your files permanently, run `python -m pytorch_lightning.utilities.upgrade_checkpoint --file ../root/.cache/torch/pyannote/models--pyannote--embedding/snapshots/20b2db779562a3141f5eadd34a0232dbcd56d620/pytorch_model.bin`\n"
          ]
        },
        {
          "output_type": "stream",
          "name": "stdout",
          "text": [
            "Model was trained with pyannote.audio 0.0.1, yours is 2.1.1. Bad things might happen unless you revert pyannote.audio to 0.x.\n",
            "Model was trained with torch 1.8.1+cu102, yours is 2.0.0+cu118. Bad things might happen unless you revert torch to 1.x.\n",
            "Model was trained with pyannote.audio 0.0.1, yours is 2.1.1. Bad things might happen unless you revert pyannote.audio to 0.x.\n",
            "Model was trained with torch 1.8.1+cu102, yours is 2.0.0+cu118. Bad things might happen unless you revert torch to 1.x.\n"
          ]
        }
      ]
    },
    {
      "cell_type": "markdown",
      "source": [
        "# データベースの検索"
      ],
      "metadata": {
        "id": "iX7aIGy7vwAk"
      }
    },
    {
      "cell_type": "markdown",
      "source": [
        "## 音声からembddingの抽出\n",
        "google colaboratoryを用いる際は左のフォルダのマークのところからファイルをアップロードしてください\n",
        "\n"
      ],
      "metadata": {
        "id": "0VFbWI20wgzj"
      }
    },
    {
      "cell_type": "code",
      "source": [
        "import os\n",
        "os.listdir(\"./\")"
      ],
      "metadata": {
        "colab": {
          "base_uri": "https://localhost:8080/"
        },
        "id": "c8Iy_KPZvHon",
        "outputId": "08919b40-bfb9-4422-93d5-e806297bcc6b"
      },
      "execution_count": 6,
      "outputs": [
        {
          "output_type": "execute_result",
          "data": {
            "text/plain": [
              "['.config',\n",
              " 'voice-changer-vector-search',\n",
              " 'sample.wav',\n",
              " '.ipynb_checkpoints',\n",
              " 'sample_data']"
            ]
          },
          "metadata": {},
          "execution_count": 6
        }
      ]
    },
    {
      "cell_type": "code",
      "source": [
        "query_embedding = inference(\"sample.wav\")\n",
        "query_embedding /= np.maximum(1e-9, np.linalg.norm(query_embedding, ord=2))"
      ],
      "metadata": {
        "id": "chlxGkbXwlrP"
      },
      "execution_count": 7,
      "outputs": []
    },
    {
      "cell_type": "code",
      "source": [
        "score = np.einsum(\"d,nd->n\", query_embedding, source_embedding)\n",
        "order = np.argsort(-score)\n",
        "\n",
        "res_df = meta_df.iloc[order, :].reset_index(drop=True)\n",
        "res_df[\"score\"] = score[order]\n",
        "res_df"
      ],
      "metadata": {
        "colab": {
          "base_uri": "https://localhost:8080/",
          "height": 507
        },
        "id": "9Ny3G_PAwvBz",
        "outputId": "79e8c83f-7ffe-48f4-87a7-3d5f3948bbec"
      },
      "execution_count": 9,
      "outputs": [
        {
          "output_type": "execute_result",
          "data": {
            "text/plain": [
              "   voice_id               display_name distribution_type  \\\n",
              "0         0         あみたろのITAコーパス読み上げ音声             voice   \n",
              "1         3   黄琴海月　ITAコーパス読み上げ音声【4.00】             voice   \n",
              "2         3  黄琴まひろ　ITAコーパス読み上げ音声【1.00】             voice   \n",
              "3         2        刻鳴時雨ITAコーパス読み上げ音声素材             voice   \n",
              "4         1           刻鳴時雨 RVC用学習済みモデル             model   \n",
              "\n",
              "                                                 url  \\\n",
              "0         https://amitaro.net/voice/corpus-list/ita/   \n",
              "1  https://kikyohiroto1227.wixsite.com/kikoto-uta...   \n",
              "2  https://kikyohiroto1227.wixsite.com/kikoto-uta...   \n",
              "3                  https://booth.pm/ja/items/3640133   \n",
              "4  https://huggingface.co/yasyune/Shigure_Tokina_RVC   \n",
              "\n",
              "                                voice_sample  \\\n",
              "0  https://www.youtube.com/embed/ksKu6JyLP5I   \n",
              "1  https://www.youtube.com/embed/SXnB8b1fKP4   \n",
              "2  https://www.youtube.com/embed/LT6D4Mx2xgo   \n",
              "3                                        NaN   \n",
              "4                                        NaN   \n",
              "\n",
              "                                           thumbnail speaker actor corpus  \\\n",
              "0  https://amitaro.net/wp-content/uploads/cfc421f...    あみたろ  あみたろ    ITA   \n",
              "1  https://static.wixstatic.com/media/8a7d85_5bec...    黄琴海月  黄鏡博人    ITA   \n",
              "2  https://static.wixstatic.com/media/8a7d85_767d...   黄琴まひろ  黄鏡博人    ITA   \n",
              "3  https://s2.booth.pm/4bbcead3-a3a3-40b7-8364-82...    刻鳴時雨   丸ころ    ITA   \n",
              "4  https://s2.booth.pm/4bbcead3-a3a3-40b7-8364-82...    刻鳴時雨   丸ころ    ITA   \n",
              "\n",
              "  language  ...                                        license_url  \\\n",
              "0       ja  ...         https://amitaro.net/voice/corpus-list/ita/   \n",
              "1       ja  ...  https://kikyohiroto1227.wixsite.com/kikoto-uta...   \n",
              "2       ja  ...  https://kikyohiroto1227.wixsite.com/kikoto-uta...   \n",
              "3       ja  ...        https://bindume-chan.booth.pm/items/3640133   \n",
              "4       ja  ...        https://bindume-chan.booth.pm/items/3640133   \n",
              "\n",
              "                                          terms_link commercial_use price  \\\n",
              "0              https://amitaro.net/voice/voice_rule/           True     0   \n",
              "1  https://kikyohiroto1227.wixsite.com/kikoto-uta...           True     0   \n",
              "2  https://kikyohiroto1227.wixsite.com/kikoto-uta...           True     0   \n",
              "3        https://bindume-chan.booth.pm/items/3640133           True     0   \n",
              "4        https://bindume-chan.booth.pm/items/3640133           True     0   \n",
              "\n",
              "                            twitter              ex_url_1 model_type  \\\n",
              "0  https://twitter.com/amitaro_utau  https://amitaro.net/        NaN   \n",
              "1   https://twitter.com/KikyoHiloto                   NaN        NaN   \n",
              "2   https://twitter.com/KikyoHiloto                   NaN        NaN   \n",
              "3                               NaN                   NaN        NaN   \n",
              "4                               NaN                   NaN        RVC   \n",
              "\n",
              "    base_model                                  input_voice     score  \n",
              "0          NaN                                          NaN  0.664590  \n",
              "1          NaN                                          NaN  0.463548  \n",
              "2          NaN                                          NaN  0.335240  \n",
              "3          NaN                                          NaN  0.177222  \n",
              "4  hubert_basr  https://bindume-chan.booth.pm/items/3640133  0.141767  \n",
              "\n",
              "[5 rows x 25 columns]"
            ],
            "text/html": [
              "\n",
              "  <div id=\"df-52e76fda-25cd-4cae-8e96-1c46047ab6d0\">\n",
              "    <div class=\"colab-df-container\">\n",
              "      <div>\n",
              "<style scoped>\n",
              "    .dataframe tbody tr th:only-of-type {\n",
              "        vertical-align: middle;\n",
              "    }\n",
              "\n",
              "    .dataframe tbody tr th {\n",
              "        vertical-align: top;\n",
              "    }\n",
              "\n",
              "    .dataframe thead th {\n",
              "        text-align: right;\n",
              "    }\n",
              "</style>\n",
              "<table border=\"1\" class=\"dataframe\">\n",
              "  <thead>\n",
              "    <tr style=\"text-align: right;\">\n",
              "      <th></th>\n",
              "      <th>voice_id</th>\n",
              "      <th>display_name</th>\n",
              "      <th>distribution_type</th>\n",
              "      <th>url</th>\n",
              "      <th>voice_sample</th>\n",
              "      <th>thumbnail</th>\n",
              "      <th>speaker</th>\n",
              "      <th>actor</th>\n",
              "      <th>corpus</th>\n",
              "      <th>language</th>\n",
              "      <th>...</th>\n",
              "      <th>license_url</th>\n",
              "      <th>terms_link</th>\n",
              "      <th>commercial_use</th>\n",
              "      <th>price</th>\n",
              "      <th>twitter</th>\n",
              "      <th>ex_url_1</th>\n",
              "      <th>model_type</th>\n",
              "      <th>base_model</th>\n",
              "      <th>input_voice</th>\n",
              "      <th>score</th>\n",
              "    </tr>\n",
              "  </thead>\n",
              "  <tbody>\n",
              "    <tr>\n",
              "      <th>0</th>\n",
              "      <td>0</td>\n",
              "      <td>あみたろのITAコーパス読み上げ音声</td>\n",
              "      <td>voice</td>\n",
              "      <td>https://amitaro.net/voice/corpus-list/ita/</td>\n",
              "      <td>https://www.youtube.com/embed/ksKu6JyLP5I</td>\n",
              "      <td>https://amitaro.net/wp-content/uploads/cfc421f...</td>\n",
              "      <td>あみたろ</td>\n",
              "      <td>あみたろ</td>\n",
              "      <td>ITA</td>\n",
              "      <td>ja</td>\n",
              "      <td>...</td>\n",
              "      <td>https://amitaro.net/voice/corpus-list/ita/</td>\n",
              "      <td>https://amitaro.net/voice/voice_rule/</td>\n",
              "      <td>True</td>\n",
              "      <td>0</td>\n",
              "      <td>https://twitter.com/amitaro_utau</td>\n",
              "      <td>https://amitaro.net/</td>\n",
              "      <td>NaN</td>\n",
              "      <td>NaN</td>\n",
              "      <td>NaN</td>\n",
              "      <td>0.664590</td>\n",
              "    </tr>\n",
              "    <tr>\n",
              "      <th>1</th>\n",
              "      <td>3</td>\n",
              "      <td>黄琴海月　ITAコーパス読み上げ音声【4.00】</td>\n",
              "      <td>voice</td>\n",
              "      <td>https://kikyohiroto1227.wixsite.com/kikoto-uta...</td>\n",
              "      <td>https://www.youtube.com/embed/SXnB8b1fKP4</td>\n",
              "      <td>https://static.wixstatic.com/media/8a7d85_5bec...</td>\n",
              "      <td>黄琴海月</td>\n",
              "      <td>黄鏡博人</td>\n",
              "      <td>ITA</td>\n",
              "      <td>ja</td>\n",
              "      <td>...</td>\n",
              "      <td>https://kikyohiroto1227.wixsite.com/kikoto-uta...</td>\n",
              "      <td>https://kikyohiroto1227.wixsite.com/kikoto-uta...</td>\n",
              "      <td>True</td>\n",
              "      <td>0</td>\n",
              "      <td>https://twitter.com/KikyoHiloto</td>\n",
              "      <td>NaN</td>\n",
              "      <td>NaN</td>\n",
              "      <td>NaN</td>\n",
              "      <td>NaN</td>\n",
              "      <td>0.463548</td>\n",
              "    </tr>\n",
              "    <tr>\n",
              "      <th>2</th>\n",
              "      <td>3</td>\n",
              "      <td>黄琴まひろ　ITAコーパス読み上げ音声【1.00】</td>\n",
              "      <td>voice</td>\n",
              "      <td>https://kikyohiroto1227.wixsite.com/kikoto-uta...</td>\n",
              "      <td>https://www.youtube.com/embed/LT6D4Mx2xgo</td>\n",
              "      <td>https://static.wixstatic.com/media/8a7d85_767d...</td>\n",
              "      <td>黄琴まひろ</td>\n",
              "      <td>黄鏡博人</td>\n",
              "      <td>ITA</td>\n",
              "      <td>ja</td>\n",
              "      <td>...</td>\n",
              "      <td>https://kikyohiroto1227.wixsite.com/kikoto-uta...</td>\n",
              "      <td>https://kikyohiroto1227.wixsite.com/kikoto-uta...</td>\n",
              "      <td>True</td>\n",
              "      <td>0</td>\n",
              "      <td>https://twitter.com/KikyoHiloto</td>\n",
              "      <td>NaN</td>\n",
              "      <td>NaN</td>\n",
              "      <td>NaN</td>\n",
              "      <td>NaN</td>\n",
              "      <td>0.335240</td>\n",
              "    </tr>\n",
              "    <tr>\n",
              "      <th>3</th>\n",
              "      <td>2</td>\n",
              "      <td>刻鳴時雨ITAコーパス読み上げ音声素材</td>\n",
              "      <td>voice</td>\n",
              "      <td>https://booth.pm/ja/items/3640133</td>\n",
              "      <td>NaN</td>\n",
              "      <td>https://s2.booth.pm/4bbcead3-a3a3-40b7-8364-82...</td>\n",
              "      <td>刻鳴時雨</td>\n",
              "      <td>丸ころ</td>\n",
              "      <td>ITA</td>\n",
              "      <td>ja</td>\n",
              "      <td>...</td>\n",
              "      <td>https://bindume-chan.booth.pm/items/3640133</td>\n",
              "      <td>https://bindume-chan.booth.pm/items/3640133</td>\n",
              "      <td>True</td>\n",
              "      <td>0</td>\n",
              "      <td>NaN</td>\n",
              "      <td>NaN</td>\n",
              "      <td>NaN</td>\n",
              "      <td>NaN</td>\n",
              "      <td>NaN</td>\n",
              "      <td>0.177222</td>\n",
              "    </tr>\n",
              "    <tr>\n",
              "      <th>4</th>\n",
              "      <td>1</td>\n",
              "      <td>刻鳴時雨 RVC用学習済みモデル</td>\n",
              "      <td>model</td>\n",
              "      <td>https://huggingface.co/yasyune/Shigure_Tokina_RVC</td>\n",
              "      <td>NaN</td>\n",
              "      <td>https://s2.booth.pm/4bbcead3-a3a3-40b7-8364-82...</td>\n",
              "      <td>刻鳴時雨</td>\n",
              "      <td>丸ころ</td>\n",
              "      <td>ITA</td>\n",
              "      <td>ja</td>\n",
              "      <td>...</td>\n",
              "      <td>https://bindume-chan.booth.pm/items/3640133</td>\n",
              "      <td>https://bindume-chan.booth.pm/items/3640133</td>\n",
              "      <td>True</td>\n",
              "      <td>0</td>\n",
              "      <td>NaN</td>\n",
              "      <td>NaN</td>\n",
              "      <td>RVC</td>\n",
              "      <td>hubert_basr</td>\n",
              "      <td>https://bindume-chan.booth.pm/items/3640133</td>\n",
              "      <td>0.141767</td>\n",
              "    </tr>\n",
              "  </tbody>\n",
              "</table>\n",
              "<p>5 rows × 25 columns</p>\n",
              "</div>\n",
              "      <button class=\"colab-df-convert\" onclick=\"convertToInteractive('df-52e76fda-25cd-4cae-8e96-1c46047ab6d0')\"\n",
              "              title=\"Convert this dataframe to an interactive table.\"\n",
              "              style=\"display:none;\">\n",
              "        \n",
              "  <svg xmlns=\"http://www.w3.org/2000/svg\" height=\"24px\"viewBox=\"0 0 24 24\"\n",
              "       width=\"24px\">\n",
              "    <path d=\"M0 0h24v24H0V0z\" fill=\"none\"/>\n",
              "    <path d=\"M18.56 5.44l.94 2.06.94-2.06 2.06-.94-2.06-.94-.94-2.06-.94 2.06-2.06.94zm-11 1L8.5 8.5l.94-2.06 2.06-.94-2.06-.94L8.5 2.5l-.94 2.06-2.06.94zm10 10l.94 2.06.94-2.06 2.06-.94-2.06-.94-.94-2.06-.94 2.06-2.06.94z\"/><path d=\"M17.41 7.96l-1.37-1.37c-.4-.4-.92-.59-1.43-.59-.52 0-1.04.2-1.43.59L10.3 9.45l-7.72 7.72c-.78.78-.78 2.05 0 2.83L4 21.41c.39.39.9.59 1.41.59.51 0 1.02-.2 1.41-.59l7.78-7.78 2.81-2.81c.8-.78.8-2.07 0-2.86zM5.41 20L4 18.59l7.72-7.72 1.47 1.35L5.41 20z\"/>\n",
              "  </svg>\n",
              "      </button>\n",
              "      \n",
              "  <style>\n",
              "    .colab-df-container {\n",
              "      display:flex;\n",
              "      flex-wrap:wrap;\n",
              "      gap: 12px;\n",
              "    }\n",
              "\n",
              "    .colab-df-convert {\n",
              "      background-color: #E8F0FE;\n",
              "      border: none;\n",
              "      border-radius: 50%;\n",
              "      cursor: pointer;\n",
              "      display: none;\n",
              "      fill: #1967D2;\n",
              "      height: 32px;\n",
              "      padding: 0 0 0 0;\n",
              "      width: 32px;\n",
              "    }\n",
              "\n",
              "    .colab-df-convert:hover {\n",
              "      background-color: #E2EBFA;\n",
              "      box-shadow: 0px 1px 2px rgba(60, 64, 67, 0.3), 0px 1px 3px 1px rgba(60, 64, 67, 0.15);\n",
              "      fill: #174EA6;\n",
              "    }\n",
              "\n",
              "    [theme=dark] .colab-df-convert {\n",
              "      background-color: #3B4455;\n",
              "      fill: #D2E3FC;\n",
              "    }\n",
              "\n",
              "    [theme=dark] .colab-df-convert:hover {\n",
              "      background-color: #434B5C;\n",
              "      box-shadow: 0px 1px 3px 1px rgba(0, 0, 0, 0.15);\n",
              "      filter: drop-shadow(0px 1px 2px rgba(0, 0, 0, 0.3));\n",
              "      fill: #FFFFFF;\n",
              "    }\n",
              "  </style>\n",
              "\n",
              "      <script>\n",
              "        const buttonEl =\n",
              "          document.querySelector('#df-52e76fda-25cd-4cae-8e96-1c46047ab6d0 button.colab-df-convert');\n",
              "        buttonEl.style.display =\n",
              "          google.colab.kernel.accessAllowed ? 'block' : 'none';\n",
              "\n",
              "        async function convertToInteractive(key) {\n",
              "          const element = document.querySelector('#df-52e76fda-25cd-4cae-8e96-1c46047ab6d0');\n",
              "          const dataTable =\n",
              "            await google.colab.kernel.invokeFunction('convertToInteractive',\n",
              "                                                     [key], {});\n",
              "          if (!dataTable) return;\n",
              "\n",
              "          const docLinkHtml = 'Like what you see? Visit the ' +\n",
              "            '<a target=\"_blank\" href=https://colab.research.google.com/notebooks/data_table.ipynb>data table notebook</a>'\n",
              "            + ' to learn more about interactive tables.';\n",
              "          element.innerHTML = '';\n",
              "          dataTable['output_type'] = 'display_data';\n",
              "          await google.colab.output.renderOutput(dataTable, element);\n",
              "          const docLink = document.createElement('div');\n",
              "          docLink.innerHTML = docLinkHtml;\n",
              "          element.appendChild(docLink);\n",
              "        }\n",
              "      </script>\n",
              "    </div>\n",
              "  </div>\n",
              "  "
            ]
          },
          "metadata": {},
          "execution_count": 9
        }
      ]
    },
    {
      "cell_type": "markdown",
      "source": [
        "## pretty display"
      ],
      "metadata": {
        "id": "JIFT7AeT2NET"
      }
    },
    {
      "cell_type": "code",
      "source": [
        "def handle_thumbnail(x, width=200):\n",
        "    if pd.isna(x) or type(x) != str:\n",
        "        return np.NaN\n",
        "    return  \"<img src='{}' width='{}' />\".format(x, width)\n",
        "\n",
        "def handle_voicesample(x):\n",
        "    if pd.isna(x) or type(x) != str:\n",
        "        return np.NaN\n",
        "    if x.split(\".\")[-1] in [\"mp3\", \"wav\"]:\n",
        "        return '<audio controls><source src=\"{}\"></audio>'.format(x)\n",
        "    if x.startswith(\"https://www.youtube.com\"):\n",
        "        html = \"\"\"<iframe width=\"560\" height=\"315\" src=\"{}\" title=\"YouTube video player\" frameborder=\"0\" allow=\"accelerometer; autoplay; clipboard-write; encrypted-media; gyroscope; picture-in-picture; web-share\" allowfullscreen></iframe>\"\"\".format(x)\n",
        "        return html"
      ],
      "metadata": {
        "id": "NZ0Olkezwyky"
      },
      "execution_count": 10,
      "outputs": []
    },
    {
      "cell_type": "code",
      "source": [
        "from IPython.display import HTML\n",
        "display_df = res_df[[\"display_name\", \"url\", \"score\"]].head(5)\n",
        "display_df[\"thumbnail\"] = res_df[\"thumbnail\"].map(handle_thumbnail)\n",
        "display_df[\"voice_sample\"] = res_df[\"voice_sample\"].map(handle_voicesample)\n",
        "\n",
        "HTML(display_df.to_html(classes=[\"table\", \"table-bordered\", \"table-hover\"], escape=False))\n"
      ],
      "metadata": {
        "colab": {
          "base_uri": "https://localhost:8080/",
          "height": 1000
        },
        "id": "ia5CF3IixeEo",
        "outputId": "0aafeef2-5b3c-41ac-f500-8fcdf5a482c1"
      },
      "execution_count": 11,
      "outputs": [
        {
          "output_type": "execute_result",
          "data": {
            "text/plain": [
              "<IPython.core.display.HTML object>"
            ],
            "text/html": [
              "<table border=\"1\" class=\"dataframe table table-bordered table-hover\">\n",
              "  <thead>\n",
              "    <tr style=\"text-align: right;\">\n",
              "      <th></th>\n",
              "      <th>display_name</th>\n",
              "      <th>url</th>\n",
              "      <th>score</th>\n",
              "      <th>thumbnail</th>\n",
              "      <th>voice_sample</th>\n",
              "    </tr>\n",
              "  </thead>\n",
              "  <tbody>\n",
              "    <tr>\n",
              "      <th>0</th>\n",
              "      <td>あみたろのITAコーパス読み上げ音声</td>\n",
              "      <td>https://amitaro.net/voice/corpus-list/ita/</td>\n",
              "      <td>0.664590</td>\n",
              "      <td><img src='https://amitaro.net/wp-content/uploads/cfc421fa043881e8a70485cbf9c04b39-150x150.png' width='200' /></td>\n",
              "      <td><iframe width=\"560\" height=\"315\" src=\"https://www.youtube.com/embed/ksKu6JyLP5I\" title=\"YouTube video player\" frameborder=\"0\" allow=\"accelerometer; autoplay; clipboard-write; encrypted-media; gyroscope; picture-in-picture; web-share\" allowfullscreen></iframe></td>\n",
              "    </tr>\n",
              "    <tr>\n",
              "      <th>1</th>\n",
              "      <td>黄琴海月　ITAコーパス読み上げ音声【4.00】</td>\n",
              "      <td>https://kikyohiroto1227.wixsite.com/kikoto-utau/kurage</td>\n",
              "      <td>0.463548</td>\n",
              "      <td><img src='https://static.wixstatic.com/media/8a7d85_5bec4edd41e8437ba26735f6815e8060~mv2.png/v1/crop/x_66,y_0,w_2761,h_4092/fill/w_524,h_776,al_c,q_90,usm_0.66_1.00_0.01,enc_auto/%E3%83%87%E3%83%95%E3%82%A9%E3%83%AB%E3%83%88.png' width='200' /></td>\n",
              "      <td><iframe width=\"560\" height=\"315\" src=\"https://www.youtube.com/embed/SXnB8b1fKP4\" title=\"YouTube video player\" frameborder=\"0\" allow=\"accelerometer; autoplay; clipboard-write; encrypted-media; gyroscope; picture-in-picture; web-share\" allowfullscreen></iframe></td>\n",
              "    </tr>\n",
              "    <tr>\n",
              "      <th>2</th>\n",
              "      <td>黄琴まひろ　ITAコーパス読み上げ音声【1.00】</td>\n",
              "      <td>https://kikyohiroto1227.wixsite.com/kikoto-utau/mahiro</td>\n",
              "      <td>0.335240</td>\n",
              "      <td><img src='https://static.wixstatic.com/media/8a7d85_767d045b05494925b100b46866221bcf~mv2.png/v1/fill/w_499,h_776,al_c,q_90,usm_0.66_1.00_0.01,enc_auto/%E3%83%87%E3%83%95%E3%82%A9%E3%83%AB%E3%83%88.png' width='200' /></td>\n",
              "      <td><iframe width=\"560\" height=\"315\" src=\"https://www.youtube.com/embed/LT6D4Mx2xgo\" title=\"YouTube video player\" frameborder=\"0\" allow=\"accelerometer; autoplay; clipboard-write; encrypted-media; gyroscope; picture-in-picture; web-share\" allowfullscreen></iframe></td>\n",
              "    </tr>\n",
              "    <tr>\n",
              "      <th>3</th>\n",
              "      <td>刻鳴時雨ITAコーパス読み上げ音声素材</td>\n",
              "      <td>https://booth.pm/ja/items/3640133</td>\n",
              "      <td>0.177222</td>\n",
              "      <td><img src='https://s2.booth.pm/4bbcead3-a3a3-40b7-8364-82e59ad26919/i/3640133/2b6374d2-6fea-441d-8fbb-57080de1ff06_base_resized.jpg' width='200' /></td>\n",
              "      <td>NaN</td>\n",
              "    </tr>\n",
              "    <tr>\n",
              "      <th>4</th>\n",
              "      <td>刻鳴時雨 RVC用学習済みモデル</td>\n",
              "      <td>https://huggingface.co/yasyune/Shigure_Tokina_RVC</td>\n",
              "      <td>0.141767</td>\n",
              "      <td><img src='https://s2.booth.pm/4bbcead3-a3a3-40b7-8364-82e59ad26919/i/3640133/2b6374d2-6fea-441d-8fbb-57080de1ff06_base_resized.jpg' width='200' /></td>\n",
              "      <td>NaN</td>\n",
              "    </tr>\n",
              "  </tbody>\n",
              "</table>"
            ]
          },
          "metadata": {},
          "execution_count": 11
        }
      ]
    },
    {
      "cell_type": "code",
      "source": [],
      "metadata": {
        "id": "kEFTjNdc1IjB"
      },
      "execution_count": 13,
      "outputs": []
    }
  ]
}