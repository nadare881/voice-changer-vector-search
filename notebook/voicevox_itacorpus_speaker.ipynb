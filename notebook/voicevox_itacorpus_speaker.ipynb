{
 "cells": [
  {
   "cell_type": "code",
   "execution_count": 1,
   "id": "f542c90b",
   "metadata": {
    "ExecuteTime": {
     "end_time": "2023-05-05T13:00:18.601742Z",
     "start_time": "2023-05-05T13:00:18.543743Z"
    }
   },
   "outputs": [],
   "source": [
    "import json\n",
    "import math\n",
    "import os\n",
    "import random\n",
    "import subprocess\n",
    "import wave\n",
    "\n",
    "import requests\n",
    "from tqdm import tqdm"
   ]
  },
  {
   "cell_type": "code",
   "execution_count": 2,
   "id": "6db8ff87",
   "metadata": {
    "ExecuteTime": {
     "end_time": "2023-05-05T13:00:18.617677Z",
     "start_time": "2023-05-05T13:00:18.602742Z"
    }
   },
   "outputs": [],
   "source": [
    "# 定数\n",
    "# ポート一覧\n",
    "port_map = {\"voicebox\": \"50021\", \"sharevox\": \"50025\"}\n",
    "\n",
    "# リストに含まれていない名前は機械学習への活用が禁止されている可能性が高いので実行しない\n",
    "# 実行可能\n",
    "allow_for_ml = [\n",
    "    # voicebox組\n",
    "    # 運営tweet: https://twitter.com/hiho_karuta/status/1553026175098028038\n",
    "    \"春日部つむぎ\",# 規約  https://tsumugi-official.studio.site/rule\n",
    "    \"波音リツ\", # 規約: https://www.canon-voice.com/terms/ \n",
    "    \"冥鳴ひまり\", # 規約: https://meimeihimari.wixsite.com/himari/terms-of-use\n",
    "    \"剣崎雌雄\", # 規約: https://frontier.creatia.cc/fanclubs/413/posts/4507#fromHistory\n",
    "    \"櫻歌ミコ\", # 規約: https://voicevox35miko.studio.site/rule\n",
    "    \"小夜/SAYO\", # 規約: https://316soramegu.wixsite.com/sayo-official/guideline FAQ: https://316soramegu.wixsite.com/sayo-official/question\n",
    "    # sharevox組 規約: https://www.sharevox.app/characters\n",
    "    \"小春音アミ\",\n",
    "    \"つくよみちゃん\",\n",
    "    \"白痴ー\",\n",
    "    \"Yくん/開発者\"\n",
    "]\n",
    "\n",
    "# 警告を出し、実行しない\n",
    "allow_only_mmvc = [\n",
    "    # MMVCは個別で許可を得ている。それ以外では不明\n",
    "    \"ずんだもん\",\n",
    "    \"四国めたん\",\n",
    "    \"九州そら\"\n",
    "]"
   ]
  },
  {
   "cell_type": "code",
   "execution_count": null,
   "id": "4a7c2dea",
   "metadata": {},
   "outputs": [],
   "source": [
    "%%writefile config.json\n",
    "{\n",
    "  \"host\": \"localhost\",\n",
    "  \"output_dir\": \"output/つくよみちゃん/\",\n",
    "  \"file_prefix\": \"\",\n",
    "  \"speaker_name\": \"つくよみちゃん\",\n",
    "  \"style\": null,\n",
    "  \"target_speaker_name\": null,\n",
    "  \"target_style\": null,\n",
    "  \"morph_rate\": null,\n",
    "  \"speed_mean\": 1.0,\n",
    "  \"pitch_mean\": 0.0,\n",
    "  \"intonation_mean\": 1.0,\n",
    "  \"speed_random_strength\": 0.0,\n",
    "  \"pitch_random_strength\": 0.0,\n",
    "  \"intonation_random_strength\": 0.0\n",
    "}"
   ]
  },
  {
   "cell_type": "code",
   "execution_count": 4,
   "id": "e07835d5",
   "metadata": {
    "ExecuteTime": {
     "end_time": "2023-05-05T13:01:11.127308Z",
     "start_time": "2023-05-05T13:01:10.961131Z"
    }
   },
   "outputs": [],
   "source": [
    "# ITAコーパスのダウンロード\n",
    "# https://github.com/mmorise/ita-corpus/blob/main/LICENCE.txt\n",
    "subprocess.run(\"curl -Os https://raw.githubusercontent.com/mmorise/ita-corpus/main/emotion_transcript_utf8.txt\", shell=True)\n",
    "subprocess.run(\"curl -Os https://raw.githubusercontent.com/mmorise/ita-corpus/main/recitation_transcript_utf8.txt\", shell=True)\n",
    "\n",
    "scripts = []\n",
    "with open(\"emotion_transcript_utf8.txt\", \"r\", encoding=\"utf-8\") as f:\n",
    "    for line in f.readlines():\n",
    "        line, kana = line.split(\",\")\n",
    "        file, script = line.split(\":\")\n",
    "        scripts.append({\"file\": file, \"script\": script, \"kana\": kana.rstrip()})\n",
    "with open(\"recitation_transcript_utf8.txt\", \"r\", encoding=\"utf-8\") as f:\n",
    "    for line in f.readlines():\n",
    "        line, kana = line.split(\",\")\n",
    "        file, script = line.split(\":\")\n",
    "        scripts.append({\"file\": file, \"script\": script, \"kana\": kana.rstrip()})\n",
    "\n",
    "# configの読み込み\n",
    "with open(\"config.json\", encoding=\"utf-8\") as f:\n",
    "    config = json.load(f)\n",
    "\n",
    "if config[\"speaker_name\"] in allow_only_mmvc:\n",
    "    raise Exception(\"このキャラクターはMMVCにおいてMMVC付属のデータセットでのみ学習可能です\")\n",
    "if not config[\"speaker_name\"] in allow_for_ml:\n",
    "    raise Exception(\"このキャラクターでの機械学習は許可されていない可能性があります。規約を確認してください\")\n",
    "\n",
    "# 出力先の作成\n",
    "if not os.path.isdir(config[\"output_dir\"]):\n",
    "    os.makedirs(config[\"output_dir\"])\n"
   ]
  },
  {
   "cell_type": "code",
   "execution_count": 5,
   "id": "1e7d2b46",
   "metadata": {
    "ExecuteTime": {
     "end_time": "2023-05-05T13:09:51.486866Z",
     "start_time": "2023-05-05T13:09:47.406403Z"
    }
   },
   "outputs": [],
   "source": [
    "# ボイボ名の一覧の取得\n",
    "speakers_info = {}\n",
    "id_map = {}\n",
    "id_map_r = {}\n",
    "for engine in port_map.keys():\n",
    "    res = requests.get(\"http://{}:{}/speakers\".format(config[\"host\"], port_map[engine]))\n",
    "    if not res.ok:\n",
    "        continue\n",
    "    for info in json.loads(res.text):\n",
    "        info[\"engine\"] = engine\n",
    "        if \"ノーマル\" in [i[\"name\"] for i in info[\"styles\"]]:\n",
    "            info[\"default_style\"] = \"ノーマル\"\n",
    "        else:\n",
    "            info[\"default_style\"] = sorted(info[\"styles\"], key=lambda x: x[\"id\"])[0][\"name\"]\n",
    "        speakers_info[info[\"name\"]] = info\n",
    "        \n",
    "        for style in info[\"styles\"]:\n",
    "            id_map[(info[\"engine\"], style[\"id\"])] = (info[\"name\"], style[\"name\"])\n",
    "            id_map_r[(info[\"name\"], style[\"name\"])] = (info[\"engine\"], style[\"id\"])"
   ]
  },
  {
   "cell_type": "code",
   "execution_count": 6,
   "id": "546c9ec0",
   "metadata": {
    "ExecuteTime": {
     "end_time": "2023-05-05T13:09:51.502865Z",
     "start_time": "2023-05-05T13:09:51.487866Z"
    }
   },
   "outputs": [],
   "source": [
    "# speakerの取得\n",
    "\n",
    "if config[\"speaker_name\"] is None:\n",
    "    raise Exception(\"speaker_nameを指定してください\")\n",
    "elif not config[\"speaker_name\"] in speakers_info.keys():\n",
    "    raise Exception(\"speaker_nameが間違っています\")\n",
    "if config[\"style\"] is None:\n",
    "    config[\"style\"] = speakers_info[config[\"speaker_name\"]][\"default_style\"]\n",
    "key = (config[\"speaker_name\"], config[\"style\"])\n",
    "if not key in id_map_r.keys():\n",
    "    raise Exception(\"styleが間違っています\")\n",
    "config[\"engine\"], config[\"speaker\"] = id_map_r[key]\n",
    "\n",
    "if config[\"target_speaker_name\"] is not None:\n",
    "    if not config[\"target_speaker_name\"] in speakers_info.keys():\n",
    "        raise Exception(\"target_speaker_nameが間違っています\")\n",
    "    if config[\"target_style\"] is None:\n",
    "        config[\"target_style\"] = speakers_info[config[\"target_speaker_name\"]][\"default_style\"]\n",
    "    key = (config[\"target_speaker_name\"], config[\"target_style\"])\n",
    "    if not key in id_map_r.keys():\n",
    "        raise Exception(\"target_styleが間違っています\")\n",
    "    config[\"target_engine\"], config[\"target_speaker\"] = id_map_r[key]\n",
    "    if config[\"taget_engine\"] != config[\"engine\"]:\n",
    "        raise Exception(\"異なるエンジン間の合成はできません\")\n",
    "\n",
    "    if not config[\"target_speaker\"] in id_map.keys():\n",
    "        raise Exception(\"target_speakerが間違っています\")"
   ]
  },
  {
   "cell_type": "code",
   "execution_count": null,
   "id": "b33f070b",
   "metadata": {
    "ExecuteTime": {
     "end_time": "2023-05-05T13:40:58.911954Z",
     "start_time": "2023-05-05T13:09:51.503865Z"
    }
   },
   "outputs": [],
   "source": [
    "# 参考: https://qiita.com/hatt_takumi/items/d65c243294f250724c19\n",
    "with tqdm(total=len(scripts)) as pbar:    \n",
    "    for line in tqdm(scripts):\n",
    "        params = (\n",
    "            (\"text\", line[\"script\"]),\n",
    "            (\"speaker\", config[\"speaker\"])\n",
    "        )\n",
    "        query = requests.post(\n",
    "            \"http://{}:{}/audio_query\".format(config[\"host\"], port_map[speakers_info[config[\"speaker_name\"]][\"engine\"]]),\n",
    "            params=params\n",
    "        )\n",
    "\n",
    "        data = query.json()\n",
    "        data['speedScale'] = min(2., max(0.5, pow(2., math.log2(config[\"speed_mean\"]) + random.gauss(mu=0, sigma=config[\"speed_random_strength\"] / 3))))\n",
    "        data['pitchScale'] = min(0.15, max(-0.15, config[\"pitch_mean\"] + random.gauss(mu=0, sigma=config[\"pitch_random_strength\"] * .05)))\n",
    "        data['intonationScale'] = min(2., max(-1., config[\"intonation_mean\"] + random.gauss(mu=0, sigma=config[\"intonation_random_strength\"] / 3)))\n",
    "        data['prePhonemeLength'] = 0.\n",
    "        data['postPhonemeLength'] = 0.\n",
    "        data[\"outputStereo\"] = False\n",
    "\n",
    "        headers = {'Content-Type': 'application/json'}\n",
    "        if config[\"target_speaker_name\"]:\n",
    "            params = (\n",
    "                (\"base_speaker\", config[\"speaker\"]),\n",
    "                (\"target_speaker\", config[\"speaker\"]),\n",
    "                (\"morph_rate\", config[\"morph_rate\"]),\n",
    "            )\n",
    "            response = requests.post(\n",
    "                'http://{}:{}/synthesis'.format(config[\"host\"], port_map[speakers_info[config[\"speaker_name\"]][\"engine\"]]),\n",
    "                headers=headers,\n",
    "                params=params,\n",
    "                data=json.dumps(data)\n",
    "            )\n",
    "        else:\n",
    "            response = requests.post(\n",
    "                'http://{}:{}/synthesis'.format(config[\"host\"], port_map[speakers_info[config[\"speaker_name\"]][\"engine\"]]),\n",
    "                headers=headers,\n",
    "                params=params,\n",
    "                data=json.dumps(data)\n",
    "            )\n",
    "\n",
    "        save_path = config[\"output_dir\"] + (config[\"file_prefix\"] + line[\"file\"] + \".wav\")\n",
    "        wf = wave.open(str(save_path), 'wb')\n",
    "        wf.setnchannels(1)\n",
    "        wf.setsampwidth(2)\n",
    "        wf.setframerate(data[\"outputSamplingRate\"])\n",
    "        wf.writeframes(response.content)\n",
    "        wf.close()\n",
    "\n",
    "        progress = \"speed: {speedScale}, pitch: {pitchScale}, intonation: {intonationScale}\".format(**data)\n",
    "        pbar.set_postfix_str(progress)"
   ]
  }
 ],
 "metadata": {
  "kernelspec": {
   "display_name": "Python 3 (ipykernel)",
   "language": "python",
   "name": "python3"
  },
  "language_info": {
   "codemirror_mode": {
    "name": "ipython",
    "version": 3
   },
   "file_extension": ".py",
   "mimetype": "text/x-python",
   "name": "python",
   "nbconvert_exporter": "python",
   "pygments_lexer": "ipython3",
   "version": "3.9.7"
  },
  "toc": {
   "base_numbering": 1,
   "nav_menu": {},
   "number_sections": true,
   "sideBar": true,
   "skip_h1_title": false,
   "title_cell": "Table of Contents",
   "title_sidebar": "Contents",
   "toc_cell": false,
   "toc_position": {},
   "toc_section_display": true,
   "toc_window_display": false
  }
 },
 "nbformat": 4,
 "nbformat_minor": 5
}
